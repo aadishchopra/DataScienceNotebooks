{
 "cells": [
  {
   "cell_type": "markdown",
   "id": "11f033fe",
   "metadata": {},
   "source": [
    "#### Resources\n",
    "\n",
    "1. https://towardsdatascience.com/building-a-logistic-regression-in-python-step-by-step-becd4d56c9c8\n",
    "2. Data : https://raw.githubusercontent.com/madmashup/targeted-marketing-predictive-engine/master/banking.csv\n",
    "\n"
   ]
  },
  {
   "cell_type": "code",
   "execution_count": 2,
   "id": "ee3ad444",
   "metadata": {},
   "outputs": [],
   "source": [
    "import pandas as pd\n",
    "from sklearn.linear_model import LogisticRegression\n",
    "from sklearn.model_selection import train_test_split\n",
    "import matplotlib.pyplot as plt\n",
    "import seaborn as sns\n",
    "from imblearn.over_sampling import SMOTE"
   ]
  },
  {
   "cell_type": "code",
   "execution_count": 3,
   "id": "8afd477a",
   "metadata": {},
   "outputs": [
    {
     "data": {
      "text/html": [
       "<div>\n",
       "<style scoped>\n",
       "    .dataframe tbody tr th:only-of-type {\n",
       "        vertical-align: middle;\n",
       "    }\n",
       "\n",
       "    .dataframe tbody tr th {\n",
       "        vertical-align: top;\n",
       "    }\n",
       "\n",
       "    .dataframe thead th {\n",
       "        text-align: right;\n",
       "    }\n",
       "</style>\n",
       "<table border=\"1\" class=\"dataframe\">\n",
       "  <thead>\n",
       "    <tr style=\"text-align: right;\">\n",
       "      <th></th>\n",
       "      <th>age</th>\n",
       "      <th>job</th>\n",
       "      <th>marital</th>\n",
       "      <th>education</th>\n",
       "      <th>default</th>\n",
       "      <th>housing</th>\n",
       "      <th>loan</th>\n",
       "      <th>contact</th>\n",
       "      <th>month</th>\n",
       "      <th>day_of_week</th>\n",
       "      <th>...</th>\n",
       "      <th>campaign</th>\n",
       "      <th>pdays</th>\n",
       "      <th>previous</th>\n",
       "      <th>poutcome</th>\n",
       "      <th>emp_var_rate</th>\n",
       "      <th>cons_price_idx</th>\n",
       "      <th>cons_conf_idx</th>\n",
       "      <th>euribor3m</th>\n",
       "      <th>nr_employed</th>\n",
       "      <th>y</th>\n",
       "    </tr>\n",
       "  </thead>\n",
       "  <tbody>\n",
       "    <tr>\n",
       "      <th>0</th>\n",
       "      <td>44</td>\n",
       "      <td>blue-collar</td>\n",
       "      <td>married</td>\n",
       "      <td>basic.4y</td>\n",
       "      <td>unknown</td>\n",
       "      <td>yes</td>\n",
       "      <td>no</td>\n",
       "      <td>cellular</td>\n",
       "      <td>aug</td>\n",
       "      <td>thu</td>\n",
       "      <td>...</td>\n",
       "      <td>1</td>\n",
       "      <td>999</td>\n",
       "      <td>0</td>\n",
       "      <td>nonexistent</td>\n",
       "      <td>1.4</td>\n",
       "      <td>93.444</td>\n",
       "      <td>-36.1</td>\n",
       "      <td>4.963</td>\n",
       "      <td>5228.1</td>\n",
       "      <td>0</td>\n",
       "    </tr>\n",
       "    <tr>\n",
       "      <th>1</th>\n",
       "      <td>53</td>\n",
       "      <td>technician</td>\n",
       "      <td>married</td>\n",
       "      <td>unknown</td>\n",
       "      <td>no</td>\n",
       "      <td>no</td>\n",
       "      <td>no</td>\n",
       "      <td>cellular</td>\n",
       "      <td>nov</td>\n",
       "      <td>fri</td>\n",
       "      <td>...</td>\n",
       "      <td>1</td>\n",
       "      <td>999</td>\n",
       "      <td>0</td>\n",
       "      <td>nonexistent</td>\n",
       "      <td>-0.1</td>\n",
       "      <td>93.200</td>\n",
       "      <td>-42.0</td>\n",
       "      <td>4.021</td>\n",
       "      <td>5195.8</td>\n",
       "      <td>0</td>\n",
       "    </tr>\n",
       "    <tr>\n",
       "      <th>2</th>\n",
       "      <td>28</td>\n",
       "      <td>management</td>\n",
       "      <td>single</td>\n",
       "      <td>university.degree</td>\n",
       "      <td>no</td>\n",
       "      <td>yes</td>\n",
       "      <td>no</td>\n",
       "      <td>cellular</td>\n",
       "      <td>jun</td>\n",
       "      <td>thu</td>\n",
       "      <td>...</td>\n",
       "      <td>3</td>\n",
       "      <td>6</td>\n",
       "      <td>2</td>\n",
       "      <td>success</td>\n",
       "      <td>-1.7</td>\n",
       "      <td>94.055</td>\n",
       "      <td>-39.8</td>\n",
       "      <td>0.729</td>\n",
       "      <td>4991.6</td>\n",
       "      <td>1</td>\n",
       "    </tr>\n",
       "    <tr>\n",
       "      <th>3</th>\n",
       "      <td>39</td>\n",
       "      <td>services</td>\n",
       "      <td>married</td>\n",
       "      <td>high.school</td>\n",
       "      <td>no</td>\n",
       "      <td>no</td>\n",
       "      <td>no</td>\n",
       "      <td>cellular</td>\n",
       "      <td>apr</td>\n",
       "      <td>fri</td>\n",
       "      <td>...</td>\n",
       "      <td>2</td>\n",
       "      <td>999</td>\n",
       "      <td>0</td>\n",
       "      <td>nonexistent</td>\n",
       "      <td>-1.8</td>\n",
       "      <td>93.075</td>\n",
       "      <td>-47.1</td>\n",
       "      <td>1.405</td>\n",
       "      <td>5099.1</td>\n",
       "      <td>0</td>\n",
       "    </tr>\n",
       "    <tr>\n",
       "      <th>4</th>\n",
       "      <td>55</td>\n",
       "      <td>retired</td>\n",
       "      <td>married</td>\n",
       "      <td>basic.4y</td>\n",
       "      <td>no</td>\n",
       "      <td>yes</td>\n",
       "      <td>no</td>\n",
       "      <td>cellular</td>\n",
       "      <td>aug</td>\n",
       "      <td>fri</td>\n",
       "      <td>...</td>\n",
       "      <td>1</td>\n",
       "      <td>3</td>\n",
       "      <td>1</td>\n",
       "      <td>success</td>\n",
       "      <td>-2.9</td>\n",
       "      <td>92.201</td>\n",
       "      <td>-31.4</td>\n",
       "      <td>0.869</td>\n",
       "      <td>5076.2</td>\n",
       "      <td>1</td>\n",
       "    </tr>\n",
       "  </tbody>\n",
       "</table>\n",
       "<p>5 rows × 21 columns</p>\n",
       "</div>"
      ],
      "text/plain": [
       "   age          job  marital          education  default housing loan  \\\n",
       "0   44  blue-collar  married           basic.4y  unknown     yes   no   \n",
       "1   53   technician  married            unknown       no      no   no   \n",
       "2   28   management   single  university.degree       no     yes   no   \n",
       "3   39     services  married        high.school       no      no   no   \n",
       "4   55      retired  married           basic.4y       no     yes   no   \n",
       "\n",
       "    contact month day_of_week  ...  campaign  pdays  previous     poutcome  \\\n",
       "0  cellular   aug         thu  ...         1    999         0  nonexistent   \n",
       "1  cellular   nov         fri  ...         1    999         0  nonexistent   \n",
       "2  cellular   jun         thu  ...         3      6         2      success   \n",
       "3  cellular   apr         fri  ...         2    999         0  nonexistent   \n",
       "4  cellular   aug         fri  ...         1      3         1      success   \n",
       "\n",
       "  emp_var_rate  cons_price_idx  cons_conf_idx  euribor3m  nr_employed  y  \n",
       "0          1.4          93.444          -36.1      4.963       5228.1  0  \n",
       "1         -0.1          93.200          -42.0      4.021       5195.8  0  \n",
       "2         -1.7          94.055          -39.8      0.729       4991.6  1  \n",
       "3         -1.8          93.075          -47.1      1.405       5099.1  0  \n",
       "4         -2.9          92.201          -31.4      0.869       5076.2  1  \n",
       "\n",
       "[5 rows x 21 columns]"
      ]
     },
     "execution_count": 3,
     "metadata": {},
     "output_type": "execute_result"
    }
   ],
   "source": [
    "df=pd.read_csv('data/banking.csv')\n",
    "df.head()"
   ]
  },
  {
   "cell_type": "code",
   "execution_count": 73,
   "id": "e66649d4",
   "metadata": {},
   "outputs": [
    {
     "data": {
      "text/plain": [
       "(41188, 21)"
      ]
     },
     "execution_count": 73,
     "metadata": {},
     "output_type": "execute_result"
    }
   ],
   "source": [
    "df.shape"
   ]
  },
  {
   "cell_type": "code",
   "execution_count": 75,
   "id": "9873a7f5",
   "metadata": {},
   "outputs": [
    {
     "data": {
      "text/plain": [
       "Index(['age', 'job', 'marital', 'education', 'default', 'housing', 'loan',\n",
       "       'contact', 'month', 'day_of_week', 'duration', 'campaign', 'pdays',\n",
       "       'previous', 'poutcome', 'emp_var_rate', 'cons_price_idx',\n",
       "       'cons_conf_idx', 'euribor3m', 'nr_employed', 'y'],\n",
       "      dtype='object')"
      ]
     },
     "execution_count": 75,
     "metadata": {},
     "output_type": "execute_result"
    }
   ],
   "source": [
    "df.columns"
   ]
  },
  {
   "cell_type": "code",
   "execution_count": 76,
   "id": "b794b006",
   "metadata": {},
   "outputs": [
    {
     "name": "stdout",
     "output_type": "stream",
     "text": [
      "['job', 'marital', 'education', 'default', 'housing', 'loan', 'contact', 'month', 'day_of_week', 'poutcome']\n"
     ]
    }
   ],
   "source": [
    "## Write a function to display the type of columns\n",
    "categorical_cols=[i for i in df.columns if df[i].dtype=='object']\n",
    "print(categorical_cols)"
   ]
  },
  {
   "cell_type": "code",
   "execution_count": 77,
   "id": "59a73caf",
   "metadata": {},
   "outputs": [
    {
     "name": "stdout",
     "output_type": "stream",
     "text": [
      "[admin.           0.253035\n",
      "blue-collar      0.224677\n",
      "technician       0.163713\n",
      "services         0.096363\n",
      "management       0.070992\n",
      "retired          0.041760\n",
      "entrepreneur     0.035350\n",
      "self-employed    0.034500\n",
      "housemaid        0.025736\n",
      "unemployed       0.024619\n",
      "student          0.021244\n",
      "unknown          0.008012\n",
      "Name: job, dtype: float64, married     0.605225\n",
      "single      0.280859\n",
      "divorced    0.111974\n",
      "unknown     0.001942\n",
      "Name: marital, dtype: float64, basic                  0.303802\n",
      "university.degree      0.295426\n",
      "high.school            0.231014\n",
      "professional.course    0.127294\n",
      "unknown                0.042027\n",
      "illiterate             0.000437\n",
      "Name: education, dtype: float64, no         0.791201\n",
      "unknown    0.208726\n",
      "yes        0.000073\n",
      "Name: default, dtype: float64, yes        0.523842\n",
      "no         0.452122\n",
      "unknown    0.024036\n",
      "Name: housing, dtype: float64, no         0.824269\n",
      "yes        0.151695\n",
      "unknown    0.024036\n",
      "Name: loan, dtype: float64, cellular     0.634748\n",
      "telephone    0.365252\n",
      "Name: contact, dtype: float64, may    0.334296\n",
      "jul    0.174177\n",
      "aug    0.149995\n",
      "jun    0.129115\n",
      "nov    0.099568\n",
      "apr    0.063902\n",
      "oct    0.017432\n",
      "sep    0.013839\n",
      "mar    0.013256\n",
      "dec    0.004419\n",
      "Name: month, dtype: float64, thu    0.209357\n",
      "mon    0.206711\n",
      "wed    0.197485\n",
      "tue    0.196416\n",
      "fri    0.190031\n",
      "Name: day_of_week, dtype: float64, nonexistent    0.863431\n",
      "failure        0.103234\n",
      "success        0.033335\n",
      "Name: poutcome, dtype: float64]\n"
     ]
    }
   ],
   "source": [
    "#Check value counts by percentage categorical variables\n",
    "cat_value_counts=[df[i].value_counts()/df.shape[0] for i in categorical_cols] \n",
    "print(cat_value_counts)"
   ]
  },
  {
   "cell_type": "code",
   "execution_count": 74,
   "id": "3629f528",
   "metadata": {},
   "outputs": [
    {
     "data": {
      "text/plain": [
       "array(['basic', 'unknown', 'university.degree', 'high.school',\n",
       "       'professional.course', 'illiterate'], dtype=object)"
      ]
     },
     "execution_count": 74,
     "metadata": {},
     "output_type": "execute_result"
    }
   ],
   "source": [
    "#Encode education column \n",
    "\n",
    "df['education']=df.education.apply(lambda x :'basic' if x.startswith('basic.') else x)\n",
    "df['education'].unique()"
   ]
  },
  {
   "cell_type": "markdown",
   "id": "bf474853",
   "metadata": {},
   "source": [
    "#### Inferences\n",
    "\n",
    "1. Job type, education, housing is distributed evenly\n",
    "2. Most of the people are married \n",
    "3. Most haven't defaulted\n",
    "4. Most haven't taken a loan"
   ]
  },
  {
   "cell_type": "code",
   "execution_count": 78,
   "id": "cde56fc3",
   "metadata": {},
   "outputs": [],
   "source": [
    "#Check distribution of the rest of columns nominal, ordinal, numerical, boolean\n",
    "numerical_columns=set(df.columns)-set(categorical_cols)"
   ]
  },
  {
   "cell_type": "code",
   "execution_count": 79,
   "id": "b00c3fe1",
   "metadata": {},
   "outputs": [
    {
     "data": {
      "image/png": "[encoded data removed]",
      "text/plain": [
       "<Figure size 432x288 with 1 Axes>"
      ]
     },
     "metadata": {
      "needs_background": "light"
     },
     "output_type": "display_data"
    },
    {
     "data": {
      "image/png": "[encoded data removed]",
      "text/plain": [
       "<Figure size 432x288 with 1 Axes>"
      ]
     },
     "metadata": {
      "needs_background": "light"
     },
     "output_type": "display_data"
    },
    {
     "data": {
      "image/png": "[encoded data removed]",
      "text/plain": [
       "<Figure size 432x288 with 1 Axes>"
      ]
     },
     "metadata": {
      "needs_background": "light"
     },
     "output_type": "display_data"
    },
    {
     "data": {
      "image/png": "[encoded data removed]",
      "text/plain": [
       "<Figure size 432x288 with 1 Axes>"
      ]
     },
     "metadata": {
      "needs_background": "light"
     },
     "output_type": "display_data"
    },
    {
     "data": {
      "image/png": "[encoded data removed]",
      "text/plain": [
       "<Figure size 432x288 with 1 Axes>"
      ]
     },
     "metadata": {
      "needs_background": "light"
     },
     "output_type": "display_data"
    },
    {
     "data": {
      "image/png": "[encoded data removed]",
      "text/plain": [
       "<Figure size 432x288 with 1 Axes>"
      ]
     },
     "metadata": {
      "needs_background": "light"
     },
     "output_type": "display_data"
    },
    {
     "data": {
      "image/png": "[encoded data removed]",
      "text/plain": [
       "<Figure size 432x288 with 1 Axes>"
      ]
     },
     "metadata": {
      "needs_background": "light"
     },
     "output_type": "display_data"
    },
    {
     "data": {
      "image/png": "[encoded data removed]",
      "text/plain": [
       "<Figure size 432x288 with 1 Axes>"
      ]
     },
     "metadata": {
      "needs_background": "light"
     },
     "output_type": "display_data"
    },
    {
     "data": {
      "image/png": "[encoded data removed]",
      "text/plain": [
       "<Figure size 432x288 with 1 Axes>"
      ]
     },
     "metadata": {
      "needs_background": "light"
     },
     "output_type": "display_data"
    },
    {
     "data": {
      "image/png": "[encoded data removed]",
      "text/plain": [
       "<Figure size 432x288 with 1 Axes>"
      ]
     },
     "metadata": {
      "needs_background": "light"
     },
     "output_type": "display_data"
    },
    {
     "data": {
      "image/png": "[encoded data removed]",
      "text/plain": [
       "<Figure size 432x288 with 1 Axes>"
      ]
     },
     "metadata": {
      "needs_background": "light"
     },
     "output_type": "display_data"
    }
   ],
   "source": [
    "for i in numerical_columns:\n",
    "      plt.figure()\n",
    "      plt.title(i)  \n",
    "      sns.histplot(df[i],kde=True)"
   ]
  },
  {
   "cell_type": "markdown",
   "id": "f47dbf01",
   "metadata": {},
   "source": [
    "#### Inferences\n",
    "1. Most of them are between the ages 30-50\n",
    "2. Most of them have not subscribed to a term deposit"
   ]
  },
  {
   "cell_type": "markdown",
   "id": "5eb9bad5",
   "metadata": {},
   "source": [
    "#### Crosstabs to see the relationship with the predictor variable"
   ]
  },
  {
   "cell_type": "code",
   "execution_count": 14,
   "id": "9f8dc9f1",
   "metadata": {},
   "outputs": [
    {
     "data": {
      "text/html": [
       "<div>\n",
       "<style scoped>\n",
       "    .dataframe tbody tr th:only-of-type {\n",
       "        vertical-align: middle;\n",
       "    }\n",
       "\n",
       "    .dataframe tbody tr th {\n",
       "        vertical-align: top;\n",
       "    }\n",
       "\n",
       "    .dataframe thead th {\n",
       "        text-align: right;\n",
       "    }\n",
       "</style>\n",
       "<table border=\"1\" class=\"dataframe\">\n",
       "  <thead>\n",
       "    <tr style=\"text-align: right;\">\n",
       "      <th>y</th>\n",
       "      <th>0</th>\n",
       "      <th>1</th>\n",
       "      <th>ratio</th>\n",
       "    </tr>\n",
       "    <tr>\n",
       "      <th>job</th>\n",
       "      <th></th>\n",
       "      <th></th>\n",
       "      <th></th>\n",
       "    </tr>\n",
       "  </thead>\n",
       "  <tbody>\n",
       "    <tr>\n",
       "      <th>admin.</th>\n",
       "      <td>9070</td>\n",
       "      <td>1352</td>\n",
       "      <td>0.129726</td>\n",
       "    </tr>\n",
       "    <tr>\n",
       "      <th>blue-collar</th>\n",
       "      <td>8616</td>\n",
       "      <td>638</td>\n",
       "      <td>0.068943</td>\n",
       "    </tr>\n",
       "    <tr>\n",
       "      <th>entrepreneur</th>\n",
       "      <td>1332</td>\n",
       "      <td>124</td>\n",
       "      <td>0.085165</td>\n",
       "    </tr>\n",
       "    <tr>\n",
       "      <th>housemaid</th>\n",
       "      <td>954</td>\n",
       "      <td>106</td>\n",
       "      <td>0.100000</td>\n",
       "    </tr>\n",
       "    <tr>\n",
       "      <th>management</th>\n",
       "      <td>2596</td>\n",
       "      <td>328</td>\n",
       "      <td>0.112175</td>\n",
       "    </tr>\n",
       "    <tr>\n",
       "      <th>retired</th>\n",
       "      <td>1286</td>\n",
       "      <td>434</td>\n",
       "      <td>0.252326</td>\n",
       "    </tr>\n",
       "    <tr>\n",
       "      <th>self-employed</th>\n",
       "      <td>1272</td>\n",
       "      <td>149</td>\n",
       "      <td>0.104856</td>\n",
       "    </tr>\n",
       "    <tr>\n",
       "      <th>services</th>\n",
       "      <td>3646</td>\n",
       "      <td>323</td>\n",
       "      <td>0.081381</td>\n",
       "    </tr>\n",
       "    <tr>\n",
       "      <th>student</th>\n",
       "      <td>600</td>\n",
       "      <td>275</td>\n",
       "      <td>0.314286</td>\n",
       "    </tr>\n",
       "    <tr>\n",
       "      <th>technician</th>\n",
       "      <td>6013</td>\n",
       "      <td>730</td>\n",
       "      <td>0.108260</td>\n",
       "    </tr>\n",
       "    <tr>\n",
       "      <th>unemployed</th>\n",
       "      <td>870</td>\n",
       "      <td>144</td>\n",
       "      <td>0.142012</td>\n",
       "    </tr>\n",
       "    <tr>\n",
       "      <th>unknown</th>\n",
       "      <td>293</td>\n",
       "      <td>37</td>\n",
       "      <td>0.112121</td>\n",
       "    </tr>\n",
       "  </tbody>\n",
       "</table>\n",
       "</div>"
      ],
      "text/plain": [
       "y                 0     1     ratio\n",
       "job                                \n",
       "admin.         9070  1352  0.129726\n",
       "blue-collar    8616   638  0.068943\n",
       "entrepreneur   1332   124  0.085165\n",
       "housemaid       954   106  0.100000\n",
       "management     2596   328  0.112175\n",
       "retired        1286   434  0.252326\n",
       "self-employed  1272   149  0.104856\n",
       "services       3646   323  0.081381\n",
       "student         600   275  0.314286\n",
       "technician     6013   730  0.108260\n",
       "unemployed      870   144  0.142012\n",
       "unknown         293    37  0.112121"
      ]
     },
     "execution_count": 14,
     "metadata": {},
     "output_type": "execute_result"
    }
   ],
   "source": [
    "job_category_subscr=pd.crosstab(df['job'],df['y'])\n",
    "job_category_subscr['ratio']=a[1]/(a[0]+a[1])\n",
    "job_category_subscr"
   ]
  },
  {
   "cell_type": "code",
   "execution_count": 80,
   "id": "bc7f3cdb",
   "metadata": {},
   "outputs": [
    {
     "data": {
      "text/plain": [
       "<AxesSubplot:xlabel='job'>"
      ]
     },
     "execution_count": 80,
     "metadata": {},
     "output_type": "execute_result"
    },
    {
     "data": {
      "image/png": "[encoded data removed]",
      "text/plain": [
       "<Figure size 432x288 with 1 Axes>"
      ]
     },
     "metadata": {
      "needs_background": "light"
     },
     "output_type": "display_data"
    }
   ],
   "source": [
    "%matplotlib inline\n",
    "pd.crosstab(df['job'],df['y']).plot(kind='bar')"
   ]
  },
  {
   "cell_type": "code",
   "execution_count": 81,
   "id": "0e43df5a",
   "metadata": {},
   "outputs": [
    {
     "data": {
      "text/plain": [
       "<AxesSubplot:xlabel='marital'>"
      ]
     },
     "execution_count": 81,
     "metadata": {},
     "output_type": "execute_result"
    },
    {
     "data": {
      "image/png": "[encoded data removed]",
      "text/plain": [
       "<Figure size 432x288 with 1 Axes>"
      ]
     },
     "metadata": {
      "needs_background": "light"
     },
     "output_type": "display_data"
    }
   ],
   "source": [
    "pd.crosstab(df['marital'],df['y']).plot(kind='bar')"
   ]
  },
  {
   "cell_type": "code",
   "execution_count": 82,
   "id": "b1f3a7e1",
   "metadata": {},
   "outputs": [
    {
     "data": {
      "text/plain": [
       "<Figure size 432x288 with 0 Axes>"
      ]
     },
     "metadata": {},
     "output_type": "display_data"
    },
    {
     "data": {
      "image/png": "[encoded data removed]",
      "text/plain": [
       "<Figure size 432x288 with 1 Axes>"
      ]
     },
     "metadata": {
      "needs_background": "light"
     },
     "output_type": "display_data"
    },
    {
     "data": {
      "text/plain": [
       "<Figure size 432x288 with 0 Axes>"
      ]
     },
     "metadata": {},
     "output_type": "display_data"
    },
    {
     "data": {
      "image/png": "[encoded data removed]",
      "text/plain": [
       "<Figure size 432x288 with 1 Axes>"
      ]
     },
     "metadata": {
      "needs_background": "light"
     },
     "output_type": "display_data"
    },
    {
     "data": {
      "text/plain": [
       "<Figure size 432x288 with 0 Axes>"
      ]
     },
     "metadata": {},
     "output_type": "display_data"
    },
    {
     "data": {
      "image/png": "[encoded data removed]",
      "text/plain": [
       "<Figure size 432x288 with 1 Axes>"
      ]
     },
     "metadata": {
      "needs_background": "light"
     },
     "output_type": "display_data"
    },
    {
     "data": {
      "text/plain": [
       "<Figure size 432x288 with 0 Axes>"
      ]
     },
     "metadata": {},
     "output_type": "display_data"
    },
    {
     "data": {
      "image/png": "[encoded data removed]",
      "text/plain": [
       "<Figure size 432x288 with 1 Axes>"
      ]
     },
     "metadata": {
      "needs_background": "light"
     },
     "output_type": "display_data"
    },
    {
     "data": {
      "text/plain": [
       "<Figure size 432x288 with 0 Axes>"
      ]
     },
     "metadata": {},
     "output_type": "display_data"
    },
    {
     "data": {
      "image/png": "[encoded data removed]",
      "text/plain": [
       "<Figure size 432x288 with 1 Axes>"
      ]
     },
     "metadata": {
      "needs_background": "light"
     },
     "output_type": "display_data"
    },
    {
     "data": {
      "text/plain": [
       "<Figure size 432x288 with 0 Axes>"
      ]
     },
     "metadata": {},
     "output_type": "display_data"
    },
    {
     "data": {
      "image/png": "[encoded data removed]",
      "text/plain": [
       "<Figure size 432x288 with 1 Axes>"
      ]
     },
     "metadata": {
      "needs_background": "light"
     },
     "output_type": "display_data"
    },
    {
     "data": {
      "text/plain": [
       "<Figure size 432x288 with 0 Axes>"
      ]
     },
     "metadata": {},
     "output_type": "display_data"
    },
    {
     "data": {
      "image/png": "[encoded data removed]",
      "text/plain": [
       "<Figure size 432x288 with 1 Axes>"
      ]
     },
     "metadata": {
      "needs_background": "light"
     },
     "output_type": "display_data"
    },
    {
     "data": {
      "text/plain": [
       "<Figure size 432x288 with 0 Axes>"
      ]
     },
     "metadata": {},
     "output_type": "display_data"
    },
    {
     "data": {
      "image/png": "[encoded data removed]",
      "text/plain": [
       "<Figure size 432x288 with 1 Axes>"
      ]
     },
     "metadata": {
      "needs_background": "light"
     },
     "output_type": "display_data"
    },
    {
     "data": {
      "text/plain": [
       "<Figure size 432x288 with 0 Axes>"
      ]
     },
     "metadata": {},
     "output_type": "display_data"
    },
    {
     "data": {
      "image/png": "[encoded data removed]",
      "text/plain": [
       "<Figure size 432x288 with 1 Axes>"
      ]
     },
     "metadata": {
      "needs_background": "light"
     },
     "output_type": "display_data"
    },
    {
     "data": {
      "text/plain": [
       "<Figure size 432x288 with 0 Axes>"
      ]
     },
     "metadata": {},
     "output_type": "display_data"
    },
    {
     "data": {
      "image/png": "[encoded data removed]",
      "text/plain": [
       "<Figure size 432x288 with 1 Axes>"
      ]
     },
     "metadata": {
      "needs_background": "light"
     },
     "output_type": "display_data"
    }
   ],
   "source": [
    "for i in categorical_cols:\n",
    "    plt.figure()\n",
    "    pd.crosstab(df[i],df['y']).plot(kind='bar')"
   ]
  },
  {
   "cell_type": "markdown",
   "id": "8acc2826",
   "metadata": {},
   "source": [
    "#### Creating dummy variables for logistic regression"
   ]
  },
  {
   "cell_type": "code",
   "execution_count": 83,
   "id": "3d1aed07",
   "metadata": {},
   "outputs": [
    {
     "data": {
      "text/html": [
       "<div>\n",
       "<style scoped>\n",
       "    .dataframe tbody tr th:only-of-type {\n",
       "        vertical-align: middle;\n",
       "    }\n",
       "\n",
       "    .dataframe tbody tr th {\n",
       "        vertical-align: top;\n",
       "    }\n",
       "\n",
       "    .dataframe thead th {\n",
       "        text-align: right;\n",
       "    }\n",
       "</style>\n",
       "<table border=\"1\" class=\"dataframe\">\n",
       "  <thead>\n",
       "    <tr style=\"text-align: right;\">\n",
       "      <th></th>\n",
       "      <th>age</th>\n",
       "      <th>contact</th>\n",
       "      <th>month</th>\n",
       "      <th>day_of_week</th>\n",
       "      <th>duration</th>\n",
       "      <th>campaign</th>\n",
       "      <th>pdays</th>\n",
       "      <th>previous</th>\n",
       "      <th>emp_var_rate</th>\n",
       "      <th>cons_price_idx</th>\n",
       "      <th>...</th>\n",
       "      <th>job_student</th>\n",
       "      <th>job_technician</th>\n",
       "      <th>job_unemployed</th>\n",
       "      <th>job_unknown</th>\n",
       "      <th>loan_no</th>\n",
       "      <th>loan_unknown</th>\n",
       "      <th>loan_yes</th>\n",
       "      <th>poutcome_failure</th>\n",
       "      <th>poutcome_nonexistent</th>\n",
       "      <th>poutcome_success</th>\n",
       "    </tr>\n",
       "  </thead>\n",
       "  <tbody>\n",
       "    <tr>\n",
       "      <th>0</th>\n",
       "      <td>44</td>\n",
       "      <td>cellular</td>\n",
       "      <td>aug</td>\n",
       "      <td>thu</td>\n",
       "      <td>210</td>\n",
       "      <td>1</td>\n",
       "      <td>999</td>\n",
       "      <td>0</td>\n",
       "      <td>1.4</td>\n",
       "      <td>93.444</td>\n",
       "      <td>...</td>\n",
       "      <td>0</td>\n",
       "      <td>0</td>\n",
       "      <td>0</td>\n",
       "      <td>0</td>\n",
       "      <td>1</td>\n",
       "      <td>0</td>\n",
       "      <td>0</td>\n",
       "      <td>0</td>\n",
       "      <td>1</td>\n",
       "      <td>0</td>\n",
       "    </tr>\n",
       "    <tr>\n",
       "      <th>1</th>\n",
       "      <td>53</td>\n",
       "      <td>cellular</td>\n",
       "      <td>nov</td>\n",
       "      <td>fri</td>\n",
       "      <td>138</td>\n",
       "      <td>1</td>\n",
       "      <td>999</td>\n",
       "      <td>0</td>\n",
       "      <td>-0.1</td>\n",
       "      <td>93.200</td>\n",
       "      <td>...</td>\n",
       "      <td>0</td>\n",
       "      <td>1</td>\n",
       "      <td>0</td>\n",
       "      <td>0</td>\n",
       "      <td>1</td>\n",
       "      <td>0</td>\n",
       "      <td>0</td>\n",
       "      <td>0</td>\n",
       "      <td>1</td>\n",
       "      <td>0</td>\n",
       "    </tr>\n",
       "    <tr>\n",
       "      <th>2</th>\n",
       "      <td>28</td>\n",
       "      <td>cellular</td>\n",
       "      <td>jun</td>\n",
       "      <td>thu</td>\n",
       "      <td>339</td>\n",
       "      <td>3</td>\n",
       "      <td>6</td>\n",
       "      <td>2</td>\n",
       "      <td>-1.7</td>\n",
       "      <td>94.055</td>\n",
       "      <td>...</td>\n",
       "      <td>0</td>\n",
       "      <td>0</td>\n",
       "      <td>0</td>\n",
       "      <td>0</td>\n",
       "      <td>1</td>\n",
       "      <td>0</td>\n",
       "      <td>0</td>\n",
       "      <td>0</td>\n",
       "      <td>0</td>\n",
       "      <td>1</td>\n",
       "    </tr>\n",
       "    <tr>\n",
       "      <th>3</th>\n",
       "      <td>39</td>\n",
       "      <td>cellular</td>\n",
       "      <td>apr</td>\n",
       "      <td>fri</td>\n",
       "      <td>185</td>\n",
       "      <td>2</td>\n",
       "      <td>999</td>\n",
       "      <td>0</td>\n",
       "      <td>-1.8</td>\n",
       "      <td>93.075</td>\n",
       "      <td>...</td>\n",
       "      <td>0</td>\n",
       "      <td>0</td>\n",
       "      <td>0</td>\n",
       "      <td>0</td>\n",
       "      <td>1</td>\n",
       "      <td>0</td>\n",
       "      <td>0</td>\n",
       "      <td>0</td>\n",
       "      <td>1</td>\n",
       "      <td>0</td>\n",
       "    </tr>\n",
       "    <tr>\n",
       "      <th>4</th>\n",
       "      <td>55</td>\n",
       "      <td>cellular</td>\n",
       "      <td>aug</td>\n",
       "      <td>fri</td>\n",
       "      <td>137</td>\n",
       "      <td>1</td>\n",
       "      <td>3</td>\n",
       "      <td>1</td>\n",
       "      <td>-2.9</td>\n",
       "      <td>92.201</td>\n",
       "      <td>...</td>\n",
       "      <td>0</td>\n",
       "      <td>0</td>\n",
       "      <td>0</td>\n",
       "      <td>0</td>\n",
       "      <td>1</td>\n",
       "      <td>0</td>\n",
       "      <td>0</td>\n",
       "      <td>0</td>\n",
       "      <td>0</td>\n",
       "      <td>1</td>\n",
       "    </tr>\n",
       "    <tr>\n",
       "      <th>...</th>\n",
       "      <td>...</td>\n",
       "      <td>...</td>\n",
       "      <td>...</td>\n",
       "      <td>...</td>\n",
       "      <td>...</td>\n",
       "      <td>...</td>\n",
       "      <td>...</td>\n",
       "      <td>...</td>\n",
       "      <td>...</td>\n",
       "      <td>...</td>\n",
       "      <td>...</td>\n",
       "      <td>...</td>\n",
       "      <td>...</td>\n",
       "      <td>...</td>\n",
       "      <td>...</td>\n",
       "      <td>...</td>\n",
       "      <td>...</td>\n",
       "      <td>...</td>\n",
       "      <td>...</td>\n",
       "      <td>...</td>\n",
       "      <td>...</td>\n",
       "    </tr>\n",
       "    <tr>\n",
       "      <th>41183</th>\n",
       "      <td>59</td>\n",
       "      <td>telephone</td>\n",
       "      <td>jun</td>\n",
       "      <td>thu</td>\n",
       "      <td>222</td>\n",
       "      <td>1</td>\n",
       "      <td>999</td>\n",
       "      <td>0</td>\n",
       "      <td>1.4</td>\n",
       "      <td>94.465</td>\n",
       "      <td>...</td>\n",
       "      <td>0</td>\n",
       "      <td>0</td>\n",
       "      <td>0</td>\n",
       "      <td>0</td>\n",
       "      <td>0</td>\n",
       "      <td>0</td>\n",
       "      <td>1</td>\n",
       "      <td>0</td>\n",
       "      <td>1</td>\n",
       "      <td>0</td>\n",
       "    </tr>\n",
       "    <tr>\n",
       "      <th>41184</th>\n",
       "      <td>31</td>\n",
       "      <td>telephone</td>\n",
       "      <td>may</td>\n",
       "      <td>thu</td>\n",
       "      <td>196</td>\n",
       "      <td>2</td>\n",
       "      <td>999</td>\n",
       "      <td>0</td>\n",
       "      <td>1.1</td>\n",
       "      <td>93.994</td>\n",
       "      <td>...</td>\n",
       "      <td>0</td>\n",
       "      <td>0</td>\n",
       "      <td>0</td>\n",
       "      <td>0</td>\n",
       "      <td>1</td>\n",
       "      <td>0</td>\n",
       "      <td>0</td>\n",
       "      <td>0</td>\n",
       "      <td>1</td>\n",
       "      <td>0</td>\n",
       "    </tr>\n",
       "    <tr>\n",
       "      <th>41185</th>\n",
       "      <td>42</td>\n",
       "      <td>telephone</td>\n",
       "      <td>may</td>\n",
       "      <td>wed</td>\n",
       "      <td>62</td>\n",
       "      <td>3</td>\n",
       "      <td>999</td>\n",
       "      <td>0</td>\n",
       "      <td>1.1</td>\n",
       "      <td>93.994</td>\n",
       "      <td>...</td>\n",
       "      <td>0</td>\n",
       "      <td>0</td>\n",
       "      <td>0</td>\n",
       "      <td>0</td>\n",
       "      <td>0</td>\n",
       "      <td>0</td>\n",
       "      <td>1</td>\n",
       "      <td>0</td>\n",
       "      <td>1</td>\n",
       "      <td>0</td>\n",
       "    </tr>\n",
       "    <tr>\n",
       "      <th>41186</th>\n",
       "      <td>48</td>\n",
       "      <td>telephone</td>\n",
       "      <td>oct</td>\n",
       "      <td>tue</td>\n",
       "      <td>200</td>\n",
       "      <td>2</td>\n",
       "      <td>999</td>\n",
       "      <td>0</td>\n",
       "      <td>-3.4</td>\n",
       "      <td>92.431</td>\n",
       "      <td>...</td>\n",
       "      <td>0</td>\n",
       "      <td>1</td>\n",
       "      <td>0</td>\n",
       "      <td>0</td>\n",
       "      <td>0</td>\n",
       "      <td>0</td>\n",
       "      <td>1</td>\n",
       "      <td>0</td>\n",
       "      <td>1</td>\n",
       "      <td>0</td>\n",
       "    </tr>\n",
       "    <tr>\n",
       "      <th>41187</th>\n",
       "      <td>25</td>\n",
       "      <td>telephone</td>\n",
       "      <td>may</td>\n",
       "      <td>fri</td>\n",
       "      <td>112</td>\n",
       "      <td>4</td>\n",
       "      <td>999</td>\n",
       "      <td>0</td>\n",
       "      <td>1.1</td>\n",
       "      <td>93.994</td>\n",
       "      <td>...</td>\n",
       "      <td>1</td>\n",
       "      <td>0</td>\n",
       "      <td>0</td>\n",
       "      <td>0</td>\n",
       "      <td>1</td>\n",
       "      <td>0</td>\n",
       "      <td>0</td>\n",
       "      <td>0</td>\n",
       "      <td>1</td>\n",
       "      <td>0</td>\n",
       "    </tr>\n",
       "  </tbody>\n",
       "</table>\n",
       "<p>41188 rows × 48 columns</p>\n",
       "</div>"
      ],
      "text/plain": [
       "       age    contact month day_of_week  duration  campaign  pdays  previous  \\\n",
       "0       44   cellular   aug         thu       210         1    999         0   \n",
       "1       53   cellular   nov         fri       138         1    999         0   \n",
       "2       28   cellular   jun         thu       339         3      6         2   \n",
       "3       39   cellular   apr         fri       185         2    999         0   \n",
       "4       55   cellular   aug         fri       137         1      3         1   \n",
       "...    ...        ...   ...         ...       ...       ...    ...       ...   \n",
       "41183   59  telephone   jun         thu       222         1    999         0   \n",
       "41184   31  telephone   may         thu       196         2    999         0   \n",
       "41185   42  telephone   may         wed        62         3    999         0   \n",
       "41186   48  telephone   oct         tue       200         2    999         0   \n",
       "41187   25  telephone   may         fri       112         4    999         0   \n",
       "\n",
       "       emp_var_rate  cons_price_idx  ...  job_student  job_technician  \\\n",
       "0               1.4          93.444  ...            0               0   \n",
       "1              -0.1          93.200  ...            0               1   \n",
       "2              -1.7          94.055  ...            0               0   \n",
       "3              -1.8          93.075  ...            0               0   \n",
       "4              -2.9          92.201  ...            0               0   \n",
       "...             ...             ...  ...          ...             ...   \n",
       "41183           1.4          94.465  ...            0               0   \n",
       "41184           1.1          93.994  ...            0               0   \n",
       "41185           1.1          93.994  ...            0               0   \n",
       "41186          -3.4          92.431  ...            0               1   \n",
       "41187           1.1          93.994  ...            1               0   \n",
       "\n",
       "       job_unemployed  job_unknown  loan_no  loan_unknown  loan_yes  \\\n",
       "0                   0            0        1             0         0   \n",
       "1                   0            0        1             0         0   \n",
       "2                   0            0        1             0         0   \n",
       "3                   0            0        1             0         0   \n",
       "4                   0            0        1             0         0   \n",
       "...               ...          ...      ...           ...       ...   \n",
       "41183               0            0        0             0         1   \n",
       "41184               0            0        1             0         0   \n",
       "41185               0            0        0             0         1   \n",
       "41186               0            0        0             0         1   \n",
       "41187               0            0        1             0         0   \n",
       "\n",
       "       poutcome_failure  poutcome_nonexistent  poutcome_success  \n",
       "0                     0                     1                 0  \n",
       "1                     0                     1                 0  \n",
       "2                     0                     0                 1  \n",
       "3                     0                     1                 0  \n",
       "4                     0                     0                 1  \n",
       "...                 ...                   ...               ...  \n",
       "41183                 0                     1                 0  \n",
       "41184                 0                     1                 0  \n",
       "41185                 0                     1                 0  \n",
       "41186                 0                     1                 0  \n",
       "41187                 0                     1                 0  \n",
       "\n",
       "[41188 rows x 48 columns]"
      ]
     },
     "metadata": {},
     "output_type": "display_data"
    }
   ],
   "source": [
    "# Creating dummy variables for logistic regression\n",
    "df_new = df.copy()\n",
    "df_new = pd.get_dummies(df_new,\n",
    "                     columns = ['marital','education','housing','default','job','loan','poutcome'])\n",
    "\n",
    "\n",
    "display(df_new)"
   ]
  },
  {
   "cell_type": "code",
   "execution_count": 84,
   "id": "3562b318",
   "metadata": {},
   "outputs": [],
   "source": [
    "#\n",
    "cols_to_keep=['age','duration','campaign',\n",
    "       'pdays', 'previous', 'poutcome_failure','poutcome_success','poutcome_nonexistent', 'euribor3m', 'nr_employed', 'marital_divorced',\n",
    "       'marital_married', 'marital_single', 'marital_unknown',\n",
    "       'education_basic','education_high.school', 'education_illiterate',\n",
    "       'education_professional.course', 'education_university.degree',\n",
    "       'education_unknown', 'housing_no', 'housing_unknown', 'housing_yes',\n",
    "       'default_no', 'default_unknown', 'default_yes', 'job_admin.',\n",
    "       'job_blue-collar', 'job_entrepreneur', 'job_housemaid',\n",
    "       'job_management', 'job_retired', 'job_self-employed', 'job_services',\n",
    "       'job_student', 'job_technician', 'job_unemployed', 'job_unknown',\n",
    "       'loan_no', 'loan_unknown', 'loan_yes']"
   ]
  },
  {
   "cell_type": "code",
   "execution_count": 85,
   "id": "e6667b03",
   "metadata": {},
   "outputs": [],
   "source": [
    "X=df_new[cols_to_keep]\n",
    "y=df_new['y']"
   ]
  },
  {
   "cell_type": "code",
   "execution_count": 86,
   "id": "01551d26",
   "metadata": {},
   "outputs": [],
   "source": [
    "X_train,x_test,y_train,y_test=train_test_split(X,y,test_size=0.3)"
   ]
  },
  {
   "cell_type": "markdown",
   "id": "9ad0ee21",
   "metadata": {},
   "source": [
    "#### SMOTE\n",
    "Need to balance the data for dependent variable"
   ]
  },
  {
   "cell_type": "code",
   "execution_count": 87,
   "id": "ddc0f7b1",
   "metadata": {},
   "outputs": [],
   "source": [
    "\n",
    "sm=SMOTE(random_state=0)\n",
    "X_sm,y_sm=sm.fit_resample(X_train, y_train)"
   ]
  },
  {
   "cell_type": "markdown",
   "id": "e7a8dcc7",
   "metadata": {},
   "source": [
    "#### Recursive Feature Elimination\n",
    "\n",
    "\n"
   ]
  },
  {
   "cell_type": "code",
   "execution_count": 88,
   "id": "b448a567",
   "metadata": {},
   "outputs": [
    {
     "name": "stdout",
     "output_type": "stream",
     "text": [
      "Fitting estimator with 41 features.\n",
      "Fitting estimator with 40 features.\n",
      "Fitting estimator with 39 features.\n",
      "Fitting estimator with 38 features.\n",
      "Fitting estimator with 37 features.\n",
      "Fitting estimator with 36 features.\n",
      "Fitting estimator with 35 features.\n",
      "Fitting estimator with 34 features.\n",
      "Fitting estimator with 33 features.\n",
      "Fitting estimator with 32 features.\n",
      "Fitting estimator with 31 features.\n",
      "Fitting estimator with 30 features.\n",
      "Fitting estimator with 29 features.\n",
      "Fitting estimator with 28 features.\n",
      "Fitting estimator with 27 features.\n",
      "Fitting estimator with 26 features.\n"
     ]
    }
   ],
   "source": [
    "from sklearn.feature_selection import RFE\n",
    "estimator=LogisticRegression(max_iter=5000)\n",
    "selector=RFE(estimator,n_features_to_select=25,verbose=1)\n",
    "rfe_guess=selector.fit(X_sm,y_sm)\n",
    "\n",
    "\n"
   ]
  },
  {
   "cell_type": "code",
   "execution_count": 89,
   "id": "df87a0ec",
   "metadata": {},
   "outputs": [
    {
     "name": "stdout",
     "output_type": "stream",
     "text": [
      "['marital_divorced' 'marital_married' 'marital_single' 'marital_unknown'\n",
      " 'education_basic' 'education_high.school' 'education_professional.course'\n",
      " 'education_university.degree' 'education_unknown' 'housing_no'\n",
      " 'housing_unknown' 'housing_yes' 'default_no' 'default_unknown'\n",
      " 'job_admin.' 'job_blue-collar' 'job_entrepreneur' 'job_housemaid'\n",
      " 'job_management' 'job_self-employed' 'job_services' 'job_technician'\n",
      " 'loan_no' 'loan_unknown' 'loan_yes']\n",
      "[False False False False False False False False False False  True  True\n",
      "  True  True  True  True False  True  True  True  True  True  True  True\n",
      "  True False  True  True  True  True  True False  True  True False  True\n",
      " False False  True  True  True]\n",
      "[15 13 12 17 11  8  9  7 10 14  1  1  1  1  1  1  6  1  1  1  1  1  1  1\n",
      "  1 16  1  1  1  1  1  4  1  1  5  1  3  2  1  1  1]\n"
     ]
    }
   ],
   "source": [
    "print(rfe_guess.get_feature_names_out())\n",
    "print(rfe_guess.get_support())\n",
    "print(rfe_guess.ranking_)\n",
    "\n",
    "\n",
    "#print(rfe_guess._get_params)\n"
   ]
  },
  {
   "cell_type": "code",
   "execution_count": 90,
   "id": "2b8df1c8",
   "metadata": {},
   "outputs": [],
   "source": [
    "rfe_Selection=['marital_divorced','marital_married','marital_single','marital_unknown',\n",
    " 'education_basic','education_high.school','education_professional.course',\n",
    " 'education_university.degree','education_unknown','housing_no',\n",
    " 'housing_unknown','housing_yes','default_no','default_unknown',\n",
    " 'job_blue-collar','job_entrepreneur','job_housemaid','job_management',\n",
    " 'job_self-employed','job_services','job_unemployed','job_unknown',\n",
    " 'loan_no','loan_unknown','loan_yes']\n",
    "\n"
   ]
  },
  {
   "cell_type": "code",
   "execution_count": 91,
   "id": "03c38e18",
   "metadata": {},
   "outputs": [],
   "source": [
    "model=LogisticRegression(max_iter=5000)"
   ]
  },
  {
   "cell_type": "code",
   "execution_count": 92,
   "id": "97173549",
   "metadata": {},
   "outputs": [],
   "source": [
    "#fitted_model.predict(X1)\n",
    "fitted_model=model.fit(X_sm,y_sm)\n",
    "#fitted_model.get_params()"
   ]
  },
  {
   "cell_type": "code",
   "execution_count": 93,
   "id": "e513e259",
   "metadata": {},
   "outputs": [
    {
     "name": "stdout",
     "output_type": "stream",
     "text": [
      "Accuracy is : 90.8877559278142\n"
     ]
    }
   ],
   "source": [
    "preds=fitted_model.predict(x_test)\n",
    "print('Accuracy is :',sum(y_test==preds)/len(y_test)*100)\n",
    "#fitted_model.score(x_test,y_test)\n"
   ]
  },
  {
   "cell_type": "markdown",
   "id": "57b7f04a",
   "metadata": {},
   "source": [
    "#### Evaluating the model "
   ]
  },
  {
   "cell_type": "code",
   "execution_count": 96,
   "id": "e3ba7ea4",
   "metadata": {},
   "outputs": [
    {
     "name": "stdout",
     "output_type": "stream",
     "text": [
      "Optimization terminated successfully.\n",
      "         Current function value: 0.136867\n",
      "         Iterations 303\n",
      "                           Logit Regression Results                           \n",
      "==============================================================================\n",
      "Dep. Variable:                      y   No. Observations:                51150\n",
      "Model:                          Logit   Df Residuals:                    51110\n",
      "Method:                           MLE   Df Model:                           39\n",
      "Date:                Fri, 17 Mar 2023   Pseudo R-squ.:                  0.8025\n",
      "Time:                        12:04:54   Log-Likelihood:                -7000.8\n",
      "converged:                       True   LL-Null:                       -35454.\n",
      "Covariance Type:            nonrobust   LLR p-value:                     0.000\n",
      "=================================================================================================\n",
      "                                    coef    std err          z      P>|z|      [0.025      0.975]\n",
      "-------------------------------------------------------------------------------------------------\n",
      "age                               0.0106      0.003      3.969      0.000       0.005       0.016\n",
      "duration                          0.0044   8.34e-05     53.315      0.000       0.004       0.005\n",
      "campaign                         -0.0749      0.014     -5.475      0.000      -0.102      -0.048\n",
      "pdays                            -0.0013      0.000     -5.543      0.000      -0.002      -0.001\n",
      "previous                          0.2980      0.068      4.355      0.000       0.164       0.432\n",
      "poutcome_failure                 -3.6946      0.485     -7.621      0.000      -4.645      -2.744\n",
      "poutcome_success                 -2.6474      0.520     -5.091      0.000      -3.667      -1.628\n",
      "poutcome_nonexistent             -2.7814      0.476     -5.846      0.000      -3.714      -1.849\n",
      "euribor3m                        -0.7999      0.018    -43.789      0.000      -0.836      -0.764\n",
      "nr_employed                       0.0063      0.000     26.333      0.000       0.006       0.007\n",
      "marital_divorced                 -5.2865      0.452    -11.683      0.000      -6.173      -4.400\n",
      "marital_married                  -5.1726      0.448    -11.553      0.000      -6.050      -4.295\n",
      "marital_single                   -5.0149      0.448    -11.189      0.000      -5.893      -4.136\n",
      "marital_unknown                  -5.7361      0.692     -8.291      0.000      -7.092      -4.380\n",
      "education_basic                  -5.5387      0.450    -12.308      0.000      -6.421      -4.657\n",
      "education_high.school            -5.5259      0.449    -12.300      0.000      -6.406      -4.645\n",
      "education_illiterate             -4.9484      1.193     -4.148      0.000      -7.287      -2.610\n",
      "education_professional.course    -5.4146      0.452    -11.981      0.000      -6.300      -4.529\n",
      "education_university.degree      -5.1572      0.448    -11.513      0.000      -6.035      -4.279\n",
      "education_unknown                -5.2839      0.459    -11.505      0.000      -6.184      -4.384\n",
      "housing_no                       -5.5525      0.451    -12.315      0.000      -6.436      -4.669\n",
      "housing_unknown                  -4.8920        nan        nan        nan         nan         nan\n",
      "housing_yes                      -5.5640      0.451    -12.341      0.000      -6.448      -4.680\n",
      "default_no                       -3.5595      0.500     -7.126      0.000      -4.538      -2.580\n",
      "default_unknown                  -4.1520      0.502     -8.265      0.000      -5.137      -3.167\n",
      "default_yes                     -51.6287   2.16e+11  -2.39e-10      1.000   -4.23e+11    4.23e+11\n",
      "job_admin.                       -5.6648      0.439    -12.914      0.000      -6.525      -4.805\n",
      "job_blue-collar                  -6.2041      0.444    -13.987      0.000      -7.073      -5.335\n",
      "job_entrepreneur                 -6.1894      0.458    -13.522      0.000      -7.087      -5.292\n",
      "job_housemaid                    -5.9984      0.469    -12.795      0.000      -6.917      -5.080\n",
      "job_management                   -5.9505      0.445    -13.367      0.000      -6.823      -5.078\n",
      "job_retired                      -5.2206      0.449    -11.622      0.000      -6.101      -4.340\n",
      "job_self-employed                -5.9728      0.455    -13.124      0.000      -6.865      -5.081\n",
      "job_services                     -5.9926      0.445    -13.459      0.000      -6.865      -5.120\n",
      "job_student                      -5.0915      0.451    -11.297      0.000      -5.975      -4.208\n",
      "job_technician                   -5.8044      0.442    -13.143      0.000      -6.670      -4.939\n",
      "job_unemployed                   -5.6343      0.458    -12.315      0.000      -6.531      -4.738\n",
      "job_unknown                      -6.0930      0.530    -11.491      0.000      -7.132      -5.054\n",
      "loan_no                          -4.1820      0.506     -8.266      0.000      -5.174      -3.190\n",
      "loan_unknown                     -4.8920        nan        nan        nan         nan         nan\n",
      "loan_yes                         -4.3516      0.509     -8.548      0.000      -5.349      -3.354\n",
      "=================================================================================================\n",
      "\n",
      "Possibly complete quasi-separation: A fraction 0.37 of observations can be\n",
      "perfectly predicted. This might indicate that there is complete\n",
      "quasi-separation. In this case some parameters will not be identified.\n"
     ]
    },
    {
     "data": {
      "text/plain": [
       "'\\nlogit_model=sm.Logit(y,X)\\nresult=logit_model.fit()\\nprint(result.summary2())\\n'"
      ]
     },
     "execution_count": 96,
     "metadata": {},
     "output_type": "execute_result"
    }
   ],
   "source": [
    "import statsmodels.api as sm\n",
    "\n",
    "l_model=sm.Logit(y_sm,X_sm)\n",
    "result=l_model.fit(maxiter=5000)\n",
    "print(result.summary())\n",
    "\n",
    "'''\n",
    "logit_model=sm.Logit(y,X)\n",
    "result=logit_model.fit()\n",
    "print(result.summary2())\n",
    "'''"
   ]
  },
  {
   "cell_type": "markdown",
   "id": "e5ee1458",
   "metadata": {},
   "source": [
    "### Evaluating after doing rfe gives us the same result"
   ]
  },
  {
   "cell_type": "code",
   "execution_count": 97,
   "id": "6ad2dd4a",
   "metadata": {},
   "outputs": [
    {
     "name": "stdout",
     "output_type": "stream",
     "text": [
      "Accuracy is : 88.7836853605244\n"
     ]
    }
   ],
   "source": [
    "rfe_X_sm=X_sm[rfe_Selection]\n",
    "rfe_x_test=x_test[rfe_Selection]\n",
    "\n",
    "fitted_model=model.fit(rfe_X_sm,y_sm)\n",
    "preds=fitted_model.predict(rfe_x_test)\n",
    "print('Accuracy is :',sum(y_test==preds)/len(y_test)*100)\n"
   ]
  },
  {
   "cell_type": "markdown",
   "id": "4a4a8b29",
   "metadata": {},
   "source": [
    "#### Though model fit is not that good"
   ]
  },
  {
   "cell_type": "code",
   "execution_count": 98,
   "id": "89e66f47",
   "metadata": {},
   "outputs": [
    {
     "name": "stdout",
     "output_type": "stream",
     "text": [
      "Optimization terminated successfully.\n",
      "         Current function value: 0.410215\n",
      "         Iterations 7\n",
      "                           Logit Regression Results                           \n",
      "==============================================================================\n",
      "Dep. Variable:                      y   No. Observations:                51150\n",
      "Model:                          Logit   Df Residuals:                    51126\n",
      "Method:                           MLE   Df Model:                           23\n",
      "Date:                Fri, 17 Mar 2023   Pseudo R-squ.:                  0.4082\n",
      "Time:                        12:04:56   Log-Likelihood:                -20982.\n",
      "converged:                       True   LL-Null:                       -35454.\n",
      "Covariance Type:            nonrobust   LLR p-value:                     0.000\n",
      "=================================================================================================\n",
      "                                    coef    std err          z      P>|z|      [0.025      0.975]\n",
      "-------------------------------------------------------------------------------------------------\n",
      "marital_divorced                 -1.4811      0.060    -24.672      0.000      -1.599      -1.363\n",
      "marital_married                  -0.6307      0.036    -17.709      0.000      -0.701      -0.561\n",
      "marital_single                   -0.7540      0.040    -19.075      0.000      -0.832      -0.677\n",
      "marital_unknown                  -1.8441      0.452     -4.076      0.000      -2.731      -0.957\n",
      "education_basic                  -2.6560      0.050    -53.286      0.000      -2.754      -2.558\n",
      "education_high.school            -3.1092      0.046    -67.822      0.000      -3.199      -3.019\n",
      "education_professional.course    -3.6855      0.055    -67.010      0.000      -3.793      -3.578\n",
      "education_university.degree      -2.7753      0.040    -68.555      0.000      -2.855      -2.696\n",
      "education_unknown                -3.0680      0.085    -36.009      0.000      -3.235      -2.901\n",
      "housing_no                       -1.4489      0.042    -34.162      0.000      -1.532      -1.366\n",
      "housing_unknown                  -0.5278        nan        nan        nan         nan         nan\n",
      "housing_yes                      -1.2763      0.040    -31.727      0.000      -1.355      -1.197\n",
      "default_no                        3.4213      0.022    152.734      0.000       3.377       3.465\n",
      "default_unknown                   2.0273      0.053     38.581      0.000       1.924       2.130\n",
      "job_blue-collar                  -1.3557      0.048    -28.538      0.000      -1.449      -1.263\n",
      "job_entrepreneur                 -1.7688      0.111    -15.971      0.000      -1.986      -1.552\n",
      "job_housemaid                    -1.6427      0.124    -13.272      0.000      -1.885      -1.400\n",
      "job_management                   -1.3426      0.065    -20.732      0.000      -1.470      -1.216\n",
      "job_self-employed                -1.4241      0.098    -14.462      0.000      -1.617      -1.231\n",
      "job_services                     -1.3143      0.063    -20.805      0.000      -1.438      -1.190\n",
      "job_unemployed                   -1.0527      0.106     -9.958      0.000      -1.260      -0.845\n",
      "job_unknown                      -1.3811      0.232     -5.943      0.000      -1.837      -0.926\n",
      "loan_no                           1.2889      0.040     32.614      0.000       1.211       1.366\n",
      "loan_unknown                     -0.5278        nan        nan        nan         nan         nan\n",
      "loan_yes                          0.5419      0.059      9.261      0.000       0.427       0.657\n",
      "=================================================================================================\n"
     ]
    }
   ],
   "source": [
    "l_model=sm.Logit(y_sm,rfe_X_sm)\n",
    "result=l_model.fit(maxiter=5000)\n",
    "print(result.summary())"
   ]
  }
 ],
 "metadata": {
  "kernelspec": {
   "display_name": "Python 3 (ipykernel)",
   "language": "python",
   "name": "python3"
  },
  "language_info": {
   "codemirror_mode": {
    "name": "ipython",
    "version": 3
   },
   "file_extension": ".py",
   "mimetype": "text/x-python",
   "name": "python",
   "nbconvert_exporter": "python",
   "pygments_lexer": "ipython3",
   "version": "3.9.12"
  }
 },
 "nbformat": 4,
 "nbformat_minor": 5
}
