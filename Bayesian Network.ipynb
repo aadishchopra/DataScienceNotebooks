{
 "cells": [
  {
   "cell_type": "markdown",
   "id": "bfe4bff5",
   "metadata": {},
   "source": [
    "Resources:\n",
    "1. https://github.com/AileenNielsen/PyGotham_2016_Probabilistic_Graphical_Models/blob/master/pgmpy.ipynb\n",
    "2. https://www.youtube.com/watch?v=DEHqIxX1Kq4&t=1104s \n"
   ]
  },
  {
   "cell_type": "code",
   "execution_count": 2,
   "id": "477cc416",
   "metadata": {},
   "outputs": [
    {
     "name": "stdout",
     "output_type": "stream",
     "text": [
      "Collecting pgmpy\n",
      "  Downloading pgmpy-0.1.21-py3-none-any.whl (1.9 MB)\n",
      "Requirement already satisfied: pyparsing in c:\\programdata\\anaconda3\\lib\\site-packages (from pgmpy) (3.0.4)\n",
      "Requirement already satisfied: opt-einsum in c:\\programdata\\anaconda3\\lib\\site-packages (from pgmpy) (3.3.0)\n",
      "Requirement already satisfied: torch in c:\\programdata\\anaconda3\\lib\\site-packages (from pgmpy) (1.13.1)\n",
      "Requirement already satisfied: pandas in c:\\programdata\\anaconda3\\lib\\site-packages (from pgmpy) (1.4.4)\n",
      "Requirement already satisfied: scipy in c:\\programdata\\anaconda3\\lib\\site-packages (from pgmpy) (1.7.3)\n",
      "Requirement already satisfied: scikit-learn in c:\\programdata\\anaconda3\\lib\\site-packages (from pgmpy) (1.0.2)\n",
      "Requirement already satisfied: networkx in c:\\programdata\\anaconda3\\lib\\site-packages (from pgmpy) (2.7.1)\n",
      "Note: you may need to restart the kernel to use updated packages.Requirement already satisfied: numpy in c:\\programdata\\anaconda3\\lib\\site-packages (from pgmpy) (1.21.5)\n",
      "\n",
      "Requirement already satisfied: statsmodels in c:\\programdata\\anaconda3\\lib\\site-packages (from pgmpy) (0.13.2)\n",
      "Requirement already satisfied: tqdm in c:\\programdata\\anaconda3\\lib\\site-packages (from pgmpy) (4.64.0)\n",
      "Requirement already satisfied: joblib in c:\\programdata\\anaconda3\\lib\\site-packages (from pgmpy) (1.1.0)\n",
      "Requirement already satisfied: pytz>=2020.1 in c:\\programdata\\anaconda3\\lib\\site-packages (from pandas->pgmpy) (2021.3)\n",
      "Requirement already satisfied: python-dateutil>=2.8.1 in c:\\programdata\\anaconda3\\lib\\site-packages (from pandas->pgmpy) (2.8.2)\n",
      "Requirement already satisfied: six>=1.5 in c:\\programdata\\anaconda3\\lib\\site-packages (from python-dateutil>=2.8.1->pandas->pgmpy) (1.16.0)\n",
      "Requirement already satisfied: threadpoolctl>=2.0.0 in c:\\programdata\\anaconda3\\lib\\site-packages (from scikit-learn->pgmpy) (2.2.0)\n",
      "Requirement already satisfied: patsy>=0.5.2 in c:\\programdata\\anaconda3\\lib\\site-packages (from statsmodels->pgmpy) (0.5.2)\n",
      "Requirement already satisfied: packaging>=21.3 in c:\\programdata\\anaconda3\\lib\\site-packages (from statsmodels->pgmpy) (21.3)\n",
      "Requirement already satisfied: typing_extensions in c:\\programdata\\anaconda3\\lib\\site-packages (from torch->pgmpy) (4.1.1)\n",
      "Requirement already satisfied: colorama in c:\\programdata\\anaconda3\\lib\\site-packages (from tqdm->pgmpy) (0.4.4)\n",
      "Installing collected packages: pgmpy\n",
      "Successfully installed pgmpy-0.1.21\n"
     ]
    }
   ],
   "source": [
    "#pip install pgmpy"
   ]
  },
  {
   "cell_type": "code",
   "execution_count": 7,
   "id": "d9a79810",
   "metadata": {},
   "outputs": [],
   "source": [
    "#import pgmpy\n",
    "from pgmpy.factors.discrete.CPD import TabularCPD\n",
    "from pgmpy.models import BayesianNetwork"
   ]
  },
  {
   "cell_type": "markdown",
   "id": "48aab755",
   "metadata": {},
   "source": [
    "##### Setting up the structure for the network"
   ]
  },
  {
   "cell_type": "code",
   "execution_count": 13,
   "id": "3b6e0963",
   "metadata": {},
   "outputs": [
    {
     "data": {
      "text/plain": [
       "{'Genes': {'Genes', 'OT', 'Offer'}}"
      ]
     },
     "execution_count": 13,
     "metadata": {},
     "output_type": "execute_result"
    }
   ],
   "source": [
    "model_struct=BayesianNetwork([('Genes','OT'),('Practice','OT'),('OT','Offer')])\n",
    "model_struct.active_trail_nodes('Genes')"
   ]
  },
  {
   "cell_type": "markdown",
   "id": "8d7e976b",
   "metadata": {},
   "source": [
    "#### Relationships or Joint Distribution Probabilities"
   ]
  },
  {
   "cell_type": "code",
   "execution_count": 35,
   "id": "34c794ad",
   "metadata": {},
   "outputs": [],
   "source": [
    "genes_cpd=TabularCPD(variable='Genes', variable_card = 2, values = [[.2],[.8 ]])\n",
    "practice_cpd=TabularCPD(variable='Practice', variable_card = 2, values = [[.7],[.3 ]])\n",
    "offer_cpd=TabularCPD(variable='Offer', variable_card = 2, values = [[.95,0.8,0.5],[.05,0.2,0.5]],evidence_card=[3],\n",
    "                     evidence=['OT'])\n",
    "OT_cpd=TabularCPD(variable='OT', variable_card = 3, \n",
    "                    values = [[.5, .8, .8, .9],\n",
    "                            [.3, .15, .1, .08],\n",
    "                            [.2, .05, .1, .02]],\n",
    "                    evidence_card=[2,2],\n",
    "                    evidence=['Genes','Practice'])"
   ]
  },
  {
   "cell_type": "code",
   "execution_count": 36,
   "id": "ebdbf49c",
   "metadata": {},
   "outputs": [],
   "source": [
    "model_struct.add_cpds(genes_cpd,practice_cpd,offer_cpd,OT_cpd)"
   ]
  },
  {
   "cell_type": "code",
   "execution_count": 38,
   "id": "ad0d3656",
   "metadata": {},
   "outputs": [
    {
     "data": {
      "text/plain": [
       "[<TabularCPD representing P(Genes:2) at 0x1a529ca4340>,\n",
       " <TabularCPD representing P(Practice:2) at 0x1a529ca4850>,\n",
       " <TabularCPD representing P(Offer:2 | OT:3) at 0x1a529ca47f0>,\n",
       " <TabularCPD representing P(OT:3 | Genes:2, Practice:2) at 0x1a529ca4c40>]"
      ]
     },
     "execution_count": 38,
     "metadata": {},
     "output_type": "execute_result"
    }
   ],
   "source": [
    "model_struct.get_cpds()"
   ]
  },
  {
   "cell_type": "code",
   "execution_count": 42,
   "id": "dba38e69",
   "metadata": {},
   "outputs": [
    {
     "data": {
      "text/plain": [
       "(Offer ⟂ Practice, Genes | OT)\n",
       "(Offer ⟂ Genes | OT, Practice)\n",
       "(Offer ⟂ Practice | OT, Genes)\n",
       "(Practice ⟂ Genes)\n",
       "(Practice ⟂ Offer | OT)\n",
       "(Practice ⟂ Offer | OT, Genes)\n",
       "(Genes ⟂ Practice)\n",
       "(Genes ⟂ Offer | OT)\n",
       "(Genes ⟂ Offer | OT, Practice)"
      ]
     },
     "execution_count": 42,
     "metadata": {},
     "output_type": "execute_result"
    }
   ],
   "source": [
    "model_struct.get_independencies()"
   ]
  },
  {
   "cell_type": "markdown",
   "id": "ab0ccd80",
   "metadata": {},
   "source": [
    "#### Model Inferences"
   ]
  },
  {
   "cell_type": "code",
   "execution_count": 52,
   "id": "94c80af4",
   "metadata": {},
   "outputs": [
    {
     "name": "stdout",
     "output_type": "stream",
     "text": [
      "+----------+--------------+\n",
      "| Offer    |   phi(Offer) |\n",
      "+==========+==============+\n",
      "| Offer(0) |       0.8898 |\n",
      "+----------+--------------+\n",
      "| Offer(1) |       0.1102 |\n",
      "+----------+--------------+\n"
     ]
    }
   ],
   "source": [
    "from pgmpy.inference import VariableElimination\n",
    "model_infer=VariableElimination(model_struct)\n",
    "\n",
    "# What is the average probability of rolling out an offer\n",
    "prob_offer=model_infer.query(variables=['Offer'])\n",
    "print(prob_offer)"
   ]
  },
  {
   "cell_type": "code",
   "execution_count": 59,
   "id": "e2600407",
   "metadata": {},
   "outputs": [
    {
     "name": "stdout",
     "output_type": "stream",
     "text": [
      "+----------+----------+--------------------+\n",
      "| Offer    | Genes    |   phi(Offer,Genes) |\n",
      "+==========+==========+====================+\n",
      "| Offer(0) | Genes(0) |             0.1684 |\n",
      "+----------+----------+--------------------+\n",
      "| Offer(0) | Genes(1) |             0.7214 |\n",
      "+----------+----------+--------------------+\n",
      "| Offer(1) | Genes(0) |             0.0316 |\n",
      "+----------+----------+--------------------+\n",
      "| Offer(1) | Genes(1) |             0.0786 |\n",
      "+----------+----------+--------------------+\n",
      "+----------+-------------+-----------------------+\n",
      "| Offer    | Practice    |   phi(Offer,Practice) |\n",
      "+==========+=============+=======================+\n",
      "| Offer(0) | Practice(0) |                0.6125 |\n",
      "+----------+-------------+-----------------------+\n",
      "| Offer(0) | Practice(1) |                0.2773 |\n",
      "+----------+-------------+-----------------------+\n",
      "| Offer(1) | Practice(0) |                0.0875 |\n",
      "+----------+-------------+-----------------------+\n",
      "| Offer(1) | Practice(1) |                0.0227 |\n",
      "+----------+-------------+-----------------------+\n"
     ]
    }
   ],
   "source": [
    "print(model_infer.query(variables=['Offer','Genes']))\n",
    "print(model_infer.query(variables=['Offer','Practice']))"
   ]
  },
  {
   "cell_type": "code",
   "execution_count": 64,
   "id": "5a4bf196",
   "metadata": {},
   "outputs": [
    {
     "name": "stdout",
     "output_type": "stream",
     "text": [
      "+----------+--------------+\n",
      "| Offer    |   phi(Offer) |\n",
      "+==========+==============+\n",
      "| Offer(0) |       0.9050 |\n",
      "+----------+--------------+\n",
      "| Offer(1) |       0.0950 |\n",
      "+----------+--------------+\n"
     ]
    }
   ],
   "source": [
    "print(model_infer.query(variables=['Offer'],evidence={'Genes':0,'Practice':1},show_progress=True))"
   ]
  },
  {
   "cell_type": "markdown",
   "id": "1cbd461e",
   "metadata": {},
   "source": [
    "#### Probable State"
   ]
  },
  {
   "cell_type": "code",
   "execution_count": 66,
   "id": "a4ed0e14",
   "metadata": {},
   "outputs": [
    {
     "data": {
      "application/vnd.jupyter.widget-view+json": {
       "model_id": "7b97c1dd5ddf4d988e6e636ef96d9d40",
       "version_major": 2,
       "version_minor": 0
      },
      "text/plain": [
       "  0%|          | 0/2 [00:00<?, ?it/s]"
      ]
     },
     "metadata": {},
     "output_type": "display_data"
    },
    {
     "data": {
      "application/vnd.jupyter.widget-view+json": {
       "model_id": "b83a0179c1bf45ae88f862bae131c863",
       "version_major": 2,
       "version_minor": 0
      },
      "text/plain": [
       "  0%|          | 0/2 [00:00<?, ?it/s]"
      ]
     },
     "metadata": {},
     "output_type": "display_data"
    },
    {
     "data": {
      "text/plain": [
       "{'OT': 0}"
      ]
     },
     "execution_count": 66,
     "metadata": {},
     "output_type": "execute_result"
    }
   ],
   "source": [
    "model_infer.map_query(['OT'])"
   ]
  }
 ],
 "metadata": {
  "kernelspec": {
   "display_name": "Python 3 (ipykernel)",
   "language": "python",
   "name": "python3"
  },
  "language_info": {
   "codemirror_mode": {
    "name": "ipython",
    "version": 3
   },
   "file_extension": ".py",
   "mimetype": "text/x-python",
   "name": "python",
   "nbconvert_exporter": "python",
   "pygments_lexer": "ipython3",
   "version": "3.9.12"
  }
 },
 "nbformat": 4,
 "nbformat_minor": 5
}
