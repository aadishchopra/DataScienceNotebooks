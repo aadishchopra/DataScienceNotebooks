{
 "cells": [
  {
   "cell_type": "markdown",
   "id": "90eeb058",
   "metadata": {},
   "source": [
    "#### Feed forward neural network with no backpropagation\n",
    "\n",
    "1. A neural net having two inputs\n",
    "2. A neural net with a single hidden layer\n",
    "3. A neural net with a single output\n",
    "4. A neural net having a softmax function"
   ]
  },
  {
   "cell_type": "code",
   "execution_count": 30,
   "id": "48c9bc94",
   "metadata": {},
   "outputs": [
    {
     "data": {
      "text/plain": [
       "'import math\\nclass neuralnet():\\n    def two_inputs(self,one,two):\\n        print(\"Input to neural nets are \",one,\" and\",two)\\n        return one,two\\n    def hidden_layer(self,*args):\\n        print(args[0])\\n        one=args[0]b\\n        two=args[1]\\n        weight_1=0.5\\n        weight_2=0.5\\n        bias_1=0.5\\n        bias_2=0.5\\n        #calculate hidden layer output\\n        cal_hl=(weight_1*one+bias_1)+(weight_2*one+bias_2)+(weight_1*two+bias_1)+(weight_2*two+bias_2)\\n        print(\"Hidden layer output is: \", cal_hl)\\n        return cal_hl\\n    def softmax(self,cal_hl):\\n        print(\"Softmaxed output is \",math.log(cal_hl))\\n        return math.log(cal_hl)\\n\\n#Calling the object        \\nnn=neuralnet()\\n\\n#Capturing inputs\\none,two=nn.two_inputs(10,20)\\n\\n#Calculating output of hidden layers\\nlogits=nn.hidden_layer(one,two)\\n\\n#Sofmaxing the output\\nnn.softmax(logits)\\n'"
      ]
     },
     "execution_count": 30,
     "metadata": {},
     "output_type": "execute_result"
    }
   ],
   "source": [
    "'''import math\n",
    "class neuralnet():\n",
    "    def two_inputs(self,one,two):\n",
    "        print(\"Input to neural nets are \",one,\" and\",two)\n",
    "        return one,two\n",
    "    def hidden_layer(self,*args):\n",
    "        print(args[0])\n",
    "        one=args[0]b\n",
    "        two=args[1]\n",
    "        weight_1=0.5\n",
    "        weight_2=0.5\n",
    "        bias_1=0.5\n",
    "        bias_2=0.5\n",
    "        #calculate hidden layer output\n",
    "        cal_hl=(weight_1*one+bias_1)+(weight_2*one+bias_2)+(weight_1*two+bias_1)+(weight_2*two+bias_2)\n",
    "        print(\"Hidden layer output is: \", cal_hl)\n",
    "        return cal_hl\n",
    "    def softmax(self,cal_hl):\n",
    "        print(\"Softmaxed output is \",math.log(cal_hl))\n",
    "        return math.log(cal_hl)\n",
    "\n",
    "#Calling the object        \n",
    "nn=neuralnet()\n",
    "\n",
    "#Capturing inputs\n",
    "one,two=nn.two_inputs(10,20)\n",
    "\n",
    "#Calculating output of hidden layers\n",
    "logits=nn.hidden_layer(one,two)\n",
    "\n",
    "#Sofmaxing the output\n",
    "nn.softmax(logits)\n",
    "'''"
   ]
  },
  {
   "cell_type": "markdown",
   "id": "836e0e92",
   "metadata": {},
   "source": [
    "#### Make the inputs callable at the time of object creation \n",
    "\n",
    "1. A neural net having two inputs\n",
    "2. A neural net with a single hidden layer\n",
    "3. A neural net with a single output\n",
    "4. A neural net having a softmax function"
   ]
  },
  {
   "cell_type": "code",
   "execution_count": 33,
   "id": "b61e577e",
   "metadata": {},
   "outputs": [
    {
     "data": {
      "text/plain": [
       "'\\nimport math\\nclass create_nodes():\\n    def __init__(self,weight,bias):\\n        self.weight=weight\\n        self.bias=bias\\n    def update_weight(self,new_weight):\\n        self.weight=new_weight\\n    def update_bias(self,new_bias):\\n        self.bias=new_bias\\n    @classmethod\\n    def _create(cls,l):\\n        #Create multiple instances of object `nodes`\\n        return [create_nodes(0.5,0.5) for i in range(l)]\\n\\n#x,y=nodes._create(2)    \\n    \\nclass neuralnet():\\n    def __init__(self,inputs,number_of_nodes):\\n        print(\"NN has been initialized\")\\n        self.inputs=inputs\\n        self.number_of_nodes=number_of_nodes\\n    def hidden_layer(self):\\n        \\'create infrastructure for neural network\\'\\n        #create nodes\\n        nodes=create_nodes._create(self.number_of_nodes)\\n        #calculate hidden layer output\\n        sum=0\\n        for i in self.inputs:\\n            for node in nodes:\\n                sum += node.weight*i+node.bias\\n        print(\"Hidden layer output is: \", sum)\\n        return self.softmax(sum)\\n    def softmax(self,sum):\\n        print(\"Softmaxed output is \",math.log(sum))\\n        return math.log(sum)\\n\\n    \\n#Creating neural nets        \\nnn=neuralnet([10,20,30],3)\\n#Calculating output of hidden layers\\nnodes=nn.hidden_layer()\\n\\n'"
      ]
     },
     "execution_count": 33,
     "metadata": {},
     "output_type": "execute_result"
    }
   ],
   "source": [
    "'''\n",
    "import math\n",
    "class create_nodes():\n",
    "    def __init__(self,weight,bias):\n",
    "        self.weight=weight\n",
    "        self.bias=bias\n",
    "    def update_weight(self,new_weight):\n",
    "        self.weight=new_weight\n",
    "    def update_bias(self,new_bias):\n",
    "        self.bias=new_bias\n",
    "    @classmethod\n",
    "    def _create(cls,l):\n",
    "        #Create multiple instances of object `nodes`\n",
    "        return [create_nodes(0.5,0.5) for i in range(l)]\n",
    "\n",
    "#x,y=nodes._create(2)    \n",
    "    \n",
    "class neuralnet():\n",
    "    def __init__(self,inputs,number_of_nodes):\n",
    "        print(\"NN has been initialized\")\n",
    "        self.inputs=inputs\n",
    "        self.number_of_nodes=number_of_nodes\n",
    "    def hidden_layer(self):\n",
    "        'create infrastructure for neural network'\n",
    "        #create nodes\n",
    "        nodes=create_nodes._create(self.number_of_nodes)\n",
    "        #calculate hidden layer output\n",
    "        sum=0\n",
    "        for i in self.inputs:\n",
    "            for node in nodes:\n",
    "                sum += node.weight*i+node.bias\n",
    "        print(\"Hidden layer output is: \", sum)\n",
    "        return self.softmax(sum)\n",
    "    def softmax(self,sum):\n",
    "        print(\"Softmaxed output is \",math.log(sum))\n",
    "        return math.log(sum)\n",
    "\n",
    "    \n",
    "#Creating neural nets        \n",
    "nn=neuralnet([10,20,30],3)\n",
    "#Calculating output of hidden layers\n",
    "nodes=nn.hidden_layer()\n",
    "\n",
    "'''\n"
   ]
  },
  {
   "cell_type": "code",
   "execution_count": null,
   "id": "321815e3",
   "metadata": {},
   "outputs": [],
   "source": []
  },
  {
   "cell_type": "markdown",
   "id": "1a5c5696",
   "metadata": {},
   "source": [
    "#### Create nodal infrastructure based on default weights and bias\n",
    "\n",
    "1. A neural net having n inputs\n",
    "2. A neural net with hidden layer with n nodes \n",
    "3. A neural net with a single output/result\n",
    "4. A neural net having a softmax function (Use sigmoid)\n",
    "5. Based on the predefined output update the weights"
   ]
  },
  {
   "cell_type": "code",
   "execution_count": 7,
   "id": "bec95a33",
   "metadata": {},
   "outputs": [
    {
     "name": "stdout",
     "output_type": "stream",
     "text": [
      "NN has been initialized\n",
      "Hidden layer output is:  94.5\n",
      "Softmaxed output is  1.0\n"
     ]
    }
   ],
   "source": [
    "'''\n",
    "import math\n",
    "import numpy\n",
    "class create_nodes():\n",
    "    def __init__(self,weight,bias):\n",
    "        self.weight=weight\n",
    "        self.bias=bias\n",
    "    def update_weight(self,new_weight):\n",
    "        self.weight=new_weight\n",
    "    def update_bias(self,new_bias):\n",
    "        self.bias=new_bias\n",
    "    @classmethod\n",
    "    def _create(cls,l):\n",
    "        #Create multiple instances of object `nodes`\n",
    "        return [create_nodes(0.5,0.5) for i in range(l)]\n",
    "\n",
    "#x,y=nodes._create(2)    \n",
    "    \n",
    "class neuralnet():\n",
    "    def __init__(self,inputs,number_of_nodes):\n",
    "        print(\"NN has been initialized\")\n",
    "        self.inputs=inputs\n",
    "        self.number_of_nodes=number_of_nodes\n",
    "    def hidden_layer(self):\n",
    "        '''create infrastructure for neural network'''\n",
    "        #create nodes\n",
    "        nodes=create_nodes._create(self.number_of_nodes)\n",
    "        #calculate hidden layer output\n",
    "        sum=0\n",
    "        for i in self.inputs:\n",
    "            for node in nodes:\n",
    "                sum += node.weight*i+node.bias\n",
    "        print(\"Hidden layer output is: \", sum)\n",
    "        return self.softmax(sum)\n",
    "    def softmax(self,sum):\n",
    "        print(\"Softmaxed output is \",1/(1+np.exp(-sum)))\n",
    "        return 1/(1+np.exp(-sum))\n",
    "\n",
    "#Creating neural nets        \n",
    "nn=neuralnet([10,20,30],3)\n",
    "#Calculating output of hidden layers\n",
    "nodes=nn.hidden_layer()\n",
    "\n",
    "'''"
   ]
  },
  {
   "cell_type": "markdown",
   "id": "333f1c92",
   "metadata": {},
   "source": [
    "#### Use output to calculate gradient descent\n",
    "\n",
    "1. The simplest of gradient descent can be based on addition and subtraction.\n",
    "\n",
    "For example given the output 30 and the predicted output 90,\n",
    "\n",
    "1. First calculate the delta\n",
    "delta=predicted_output-output ---> 90-30=60\n",
    "2. Based on delta, update the weights. \n",
    "update_weight=0.5*2\n",
    "3. Bias remains constant regardless\n",
    "4. Re-run the calculation function . Separate the calculate function from the hidden layer"
   ]
  },
  {
   "cell_type": "code",
   "execution_count": 49,
   "id": "3917c917",
   "metadata": {},
   "outputs": [
    {
     "name": "stdout",
     "output_type": "stream",
     "text": [
      "NN has been initialized\n",
      "Hidden layer output is:  32.0\n",
      "Softmaxed output is  0.9999999999999873\n",
      "Starting delta is  -58.0\n",
      "Old weight of node is  0.5\n",
      "New weight of node is  -1.0\n",
      "Hidden layer output is:  -13.0\n",
      "New delta is -103.0\n",
      "Old weight of node is  -1.0\n",
      "New weight of node is  2.0\n",
      "Hidden layer output is:  77.0\n",
      "New delta is -13.0\n"
     ]
    }
   ],
   "source": [
    "import math\n",
    "import numpy\n",
    "class create_nodes():\n",
    "    def __init__(self,weight,bias):\n",
    "        self.weight=weight\n",
    "        self.bias=bias\n",
    "    def update_weight(self,new_weight):\n",
    "        self.weight=new_weight\n",
    "    def update_bias(self,new_bias):\n",
    "        self.bias=new_bias\n",
    "    @classmethod\n",
    "    def _create(cls,l):\n",
    "        #Create multiple instances of object `nodes`\n",
    "        return [create_nodes(0.5,0.5) for i in range(l)]\n",
    "\n",
    "\n",
    "    class neuralnet():\n",
    "    def __init__(self,inputs,number_of_nodes):\n",
    "        print(\"NN has been initialized\")\n",
    "        self.inputs=inputs\n",
    "        self.number_of_nodes=number_of_nodes\n",
    "    def hidden_layer(self):\n",
    "        '''create infrastructure for neural network'''\n",
    "        #create nodes\n",
    "        nodes=create_nodes._create(self.number_of_nodes)\n",
    "        self.nodes=nodes\n",
    "        return nodes\n",
    "    def calculate_output(self):\n",
    "        #calculate hidden layer output\n",
    "        sum=0\n",
    "        for i in self.inputs:\n",
    "            for node in self.nodes:\n",
    "                sum += node.weight*i+node.bias\n",
    "        print(\"Hidden layer output is: \", sum)\n",
    "        self.predicted_output=sum\n",
    "        return sum\n",
    "    def softmax(self,sum):\n",
    "        print(\"Softmaxed output is \",1/(1+np.exp(-sum)))\n",
    "        return 1/(1+np.exp(-sum))\n",
    "    def back_propagation(self,output):\n",
    "        '''implementing the most rudimentary form of gradient descent'''\n",
    "        ctr=0\n",
    "        self.delta=self.predicted_output-output\n",
    "        print(\"Starting delta is \", self.delta)\n",
    "        while abs(self.delta) >=20:\n",
    "            ctr+=1\n",
    "            update_weight_=np.sign(self.delta)*self.nodes[0].weight*2\n",
    "            print('Old weight of node is ',self.nodes[0].weight)\n",
    "            self.nodes[0].update_weight(update_weight_)\n",
    "            print('New weight of node is ',self.nodes[0].weight)\n",
    "            self.delta=self.calculate_output()-output\n",
    "            print(\"New delta is\",self.delta)\n",
    "            #if(ctr >10):\n",
    "            #    break\n",
    "        \n",
    "\n",
    "#Creating neural nets        \n",
    "nn=neuralnet([10,20],2)\n",
    "#Calculating output of hidden layers\n",
    "nn.hidden_layer()\n",
    "pred_output=nn.calculate_output()\n",
    "nn.softmax(pred_output)\n",
    "nn.back_propagation(90)\n",
    "\n",
    "\n",
    "\n"
   ]
  },
  {
   "cell_type": "markdown",
   "id": "e6804e15",
   "metadata": {},
   "source": [
    "1. Implement naming to nodes"
   ]
  }
 ],
 "metadata": {
  "kernelspec": {
   "display_name": "Python 3 (ipykernel)",
   "language": "python",
   "name": "python3"
  },
  "language_info": {
   "codemirror_mode": {
    "name": "ipython",
    "version": 3
   },
   "file_extension": ".py",
   "mimetype": "text/x-python",
   "name": "python",
   "nbconvert_exporter": "python",
   "pygments_lexer": "ipython3",
   "version": "3.9.12"
  }
 },
 "nbformat": 4,
 "nbformat_minor": 5
}
