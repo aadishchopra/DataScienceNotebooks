{
 "cells": [
  {
   "cell_type": "markdown",
   "id": "31963568",
   "metadata": {},
   "source": [
    "Make the largest possible numbers using all the numbers available in the matrix. For example, if the array is [1,61,9,0], the largest number formed will be 96110."
   ]
  },
  {
   "cell_type": "code",
   "execution_count": 1,
   "id": "68218845",
   "metadata": {},
   "outputs": [
    {
     "name": "stdout",
     "output_type": "stream",
     "text": [
      "[32, 31, 30, 23, 21, 20, 13, 12, 10, 3, 2, 1]\n"
     ]
    }
   ],
   "source": [
    "# To make the largest number focus on the digits at the leftmost place\n",
    "# if equal , then compare the second and so on.\n",
    "\n",
    "\n",
    "#----Above approach is wrong\n",
    "\n",
    "#Make pairs\n",
    "#Compare pairs , whichever is larger store it \n",
    "\n",
    "\n",
    "def make_number(arr):\n",
    "    nw_arr=[]\n",
    "    arr=list(map(str,arr))\n",
    "    for i,elem in enumerate(arr):\n",
    "        for j,elm in enumerate(arr):\n",
    "            if i!=j:\n",
    "                nw_elem=''.join((elem,elm))\n",
    "                nw_arr.append(nw_elem)\n",
    "    return nw_arr \n",
    "                \n",
    "def compare(nw_arr):\n",
    "    nw_arr=list(map(int,nw_arr))\n",
    "    nw_arr.sort(reverse=True)\n",
    "    print(nw_arr)        \n",
    "\n",
    "nw_arr=make_number([0,1,2,3]) \n",
    "compare(nw_arr)\n",
    "\n",
    "\n"
   ]
  },
  {
   "cell_type": "code",
   "execution_count": 2,
   "id": "582ee587",
   "metadata": {},
   "outputs": [
    {
     "name": "stdout",
     "output_type": "stream",
     "text": [
      "96110\n"
     ]
    }
   ],
   "source": [
    "def largestNumber(array):\n",
    "    #If there is only one element in the list, the element itself is the largest element.\n",
    "    #Below if condition checks the same.   \n",
    "    if len(array)==1: \n",
    "        return str(array[0])\n",
    "    #Below lines are code are used to find the largest element possible.\n",
    "    #First, we convert a list into a string array that is suitable for concatenation\n",
    "    for i in range(len(array)):\n",
    "        array[i]=str(array[i])\n",
    "    # [54,546,548,60]=>['54','546','548','60']\n",
    "    #Second, we find the largest element by swapping technique.\n",
    "    for i in range(len(array)):\n",
    "        #print(\"i\",i)\n",
    "        for j in range(1+i,len(array)):\n",
    "         #   print(\"j\",j)\n",
    "            if array[j]+array[i]>array[i]+array[j]:\n",
    "                array[i],array[j]=array[j],array[i]\n",
    "     #           print(\"array\",array)\n",
    "    #['60', '548', '546', '54']\n",
    "    #Refer JOIN function in Python\n",
    "    result=''.join(array)\n",
    "    #Edge Case: If all elements are 0, answer must be 0\n",
    "    if(result=='0'*len(result)):\n",
    "        return '0'\n",
    "    else:\n",
    "        return result\n",
    "         \n",
    "         \n",
    "if __name__ == \"__main__\":\n",
    "    a = [1,61,9,0]\n",
    "    \n",
    "\n",
    "print(largestNumber(a))"
   ]
  },
  {
   "cell_type": "code",
   "execution_count": 3,
   "id": "80a10d79",
   "metadata": {},
   "outputs": [
    {
     "name": "stdout",
     "output_type": "stream",
     "text": [
      "['9', '61', '1', '0']\n"
     ]
    }
   ],
   "source": [
    "def largest_number(arr):\n",
    "    arr=list(map(str,arr))\n",
    "    for i in range(len(arr)):\n",
    "        for j in range(i+1,len(arr)):\n",
    "            #\n",
    "            if arr[j]+arr[i]>arr[i]+arr[j]:\n",
    "                arr[j],arr[i]=arr[i],arr[j]\n",
    "    print(arr)\n",
    "                \n",
    "            \n",
    "\n",
    "largest_number([1,61,9,0])\n",
    "\n"
   ]
  },
  {
   "cell_type": "markdown",
   "id": "9394cc02",
   "metadata": {},
   "source": [
    "Consider an array that has both positive and negative numbers. \n",
    "Then, write a program to find all pairs of numbers whose sum is equal to a number assigned manually( say given sum)."
   ]
  },
  {
   "cell_type": "code",
   "execution_count": null,
   "id": "a1161f17",
   "metadata": {},
   "outputs": [],
   "source": [
    "def findPairs(arr,sum_):\n",
    "    for i in range(len(arr)):\n",
    "        for j in range(i+1,len(arr)):\n",
    "            if sum_==arr[i]+arr[j]:\n",
    "                print(arr[i],arr[j])\n",
    "    else:\n",
    "        \"No Pair found\"\n",
    "\n",
    "findPairs([1,34,6,2,3,5],8)\n",
    "    \n",
    "    "
   ]
  },
  {
   "cell_type": "code",
   "execution_count": null,
   "id": "993e725f",
   "metadata": {},
   "outputs": [],
   "source": [
    "# Roman Numeral Question from Leetcode\n",
    "\n",
    "'''\n",
    "1.\"V\"\n",
    "2. \"IV\"\n",
    "3. \"XII\"\n",
    "4. \"MCMLXVI\"\n",
    "'''\n",
    "\n",
    "def decodeRoman(roman):\n",
    "    roman=str(roman)\n",
    "    rn_dict={\n",
    "            \"I\":1,\n",
    "            \"V\":5,\n",
    "            \"X\":10,\n",
    "            \"L\":50,\n",
    "            \"C\":100,\n",
    "            \"D\":500,\n",
    "            \"M\":1000\n",
    "            }\n",
    "    sum_=0\n",
    "    i=-1\n",
    "    for i in range(len(roman)-1):\n",
    "        #print(roman[i])\n",
    "        if rn_dict[roman[i]]<rn_dict[roman[i+1]]:\n",
    "            sum_ -= rn_dict[roman[i]]\n",
    "        else :\n",
    "            sum_ += rn_dict[roman[i]]\n",
    "    sum_=sum_+rn_dict[roman[i+1]]\n",
    "    print(sum_)\n",
    "\n",
    "test_cases=[\"V\",\"IV\",\"XII\",\"MCMLXVI\"]\n",
    "\n",
    "for _ in test_cases:\n",
    "    decodeRoman(_)\n",
    "\n"
   ]
  },
  {
   "cell_type": "code",
   "execution_count": null,
   "id": "da8d513e",
   "metadata": {},
   "outputs": [],
   "source": [
    "import re\n",
    "def fun(s):\n",
    "    # return True if s is a valid email, else return False\n",
    "    if s.__contains__('@'):\n",
    "        at_character=s.find(\"@\")\n",
    "        username=s[:at_character]\n",
    "        pattern=re.compile(pattern=\"[a-z]|[A-Z]|\\d|[_-]\")\n",
    "        res=re.findall(pattern=pattern,string=username)\n",
    "        if username==''.join(map(str,res)):\n",
    "            if s.__contains__(\".\"):\n",
    "                dot_character=s.find(\".\")\n",
    "                website=s[at_character+1:dot_character]\n",
    "                pattern=re.compile(pattern=\"[a-z]|[A-Z]|\\d\")\n",
    "                res_w=re.findall(pattern=pattern,string=website)\n",
    "                if website==''.join(map(str,res_w)):\n",
    "                    extension=s[dot_character+1:len(s)]\n",
    "                    if len(extension) >3:\n",
    "                        return False\n",
    "                    pattern=re.compile(pattern=\"[a-z]|[A-Z]\")\n",
    "                    res_e=re.findall(pattern=pattern,string=extension)\n",
    "                    if extension==''.join(map(str,res_e)):\n",
    "                        return True\n",
    "                    else:\n",
    "                        return False\n",
    "                else:\n",
    "                    return False\n",
    "            else:\n",
    "                return False\n",
    "            return True    \n",
    "        else:\n",
    "            return False        \n",
    "    else:\n",
    "        return False\n",
    "\n",
    "\n",
    "test_case=['itsme@gmail','@something','@something.com','@something.co1','sone.com']    \n",
    "\n",
    "#test_case=['@something.com']    \n",
    "    \n",
    "for i in test_case:\n",
    "    print(fun(i))"
   ]
  },
  {
   "cell_type": "code",
   "execution_count": null,
   "id": "d3139aa4",
   "metadata": {},
   "outputs": [],
   "source": [
    "import re\n",
    "def fun(s):\n",
    "    m=re.fullmatch(r'[-\\w]+@[a-zA-Z0-9]+\\.[a-zA-Z]{1,3}', s)\n",
    "    return bool(m)\n",
    "\n",
    "for i in test_case:\n",
    "    print(fun(i))\n"
   ]
  },
  {
   "cell_type": "markdown",
   "id": "ed1cde85",
   "metadata": {},
   "source": [
    "#### Bubble Sort"
   ]
  },
  {
   "cell_type": "code",
   "execution_count": null,
   "id": "e50f5b96",
   "metadata": {},
   "outputs": [],
   "source": [
    "#Bubble Sort\n",
    "'''\n",
    "input=[5, 1, 4, 2, 8]\n",
    "Step 1\n",
    "Compare 5 and 1 . Swap 5 and 1\n",
    "Comare 5 and 4 . Swap 5 and 4\n",
    "Compare 5 and 2 . Swap 5 and 2\n",
    "Compare 5 and 8 . No swap\n",
    "\n",
    "output_step1=[1,4,2,5,8]\n",
    "\n",
    "Step 2\n",
    "Compare 1 and 4. No swap\n",
    "Compare 4 and 2. Swap 4 and 2\n",
    "Compare 4 and 5 No swap\n",
    "Compare 5 and 8 no swap\n",
    "\n",
    "output_step2=1,2,4,5,8\n",
    "\n",
    "Step 3\n",
    "No swaps. If no swaps. terminate \n",
    "\n",
    "output=[1,2,4,5,8]\n",
    "'''\n",
    "def bubble_sort(arr):\n",
    "    for k in range(len(arr)-1):\n",
    "        swap=0\n",
    "        for i in range(len(arr)-1-k):\n",
    "            if arr[i] >arr[i+1]:\n",
    "                swap+=1\n",
    "                arr[i+1],arr[i]=arr[i],arr[i+1]\n",
    "            print(arr)            \n",
    "        print('Total swaps {} in Kth {} iteration'.format({swap},{k}))\n",
    "        if swap==0:\n",
    "            print(\"algo done\",arr)\n",
    "            break\n",
    "    if swap>0:\n",
    "        print(\"algo done. Maximum time complexity\",arr)\n",
    "        \n",
    "        \n",
    "        \n",
    "bubble_sort([87,65,35,33,8])\n",
    "#bubble_sort([5, 1, 4, 2, 8])"
   ]
  },
  {
   "cell_type": "markdown",
   "id": "1b951428",
   "metadata": {},
   "source": [
    "### Merge Sort"
   ]
  },
  {
   "cell_type": "code",
   "execution_count": 3,
   "id": "dfae279f",
   "metadata": {},
   "outputs": [
    {
     "name": "stdout",
     "output_type": "stream",
     "text": [
      "[11, 12, 13]\n"
     ]
    }
   ],
   "source": [
    "'''\n",
    "Step 1 \n",
    "input=[5, 1, 4, 2, 8]\n",
    "\n",
    "Divide the array into two parts. Cut right in the middle\n",
    "\n",
    "l=[5,1,4]\n",
    "r=[2,8]\n",
    "\n",
    "Step 2:\n",
    "Continue splitting the array until the array becomes an array of length =1\n",
    "l_1=[5,1]\n",
    "r_1=[4]\n",
    "\n",
    "l_11=5\n",
    "r_11=1\n",
    "r_1=4\n",
    "\n",
    "c1=1,5\n",
    "\n",
    "c2=2,3\n",
    "\n",
    "\n",
    "Step 3: \n",
    "Once the array cannot be broken down , compare the arrays/elements and merge them back together\n",
    "using a list\n",
    "\n",
    "if c2[0] >c1[0] and c2[1]<c1[1]:\n",
    "    c1[1],c1[2],c1[3]=c2[0],c2[1],c1[1]\n",
    "\n",
    "\n",
    "3,43,21,72\n",
    "\n",
    "3 < 21\n",
    "\n",
    "3 < 72\n",
    "\n",
    "\n",
    "\n",
    "for elem1 in c1:\n",
    "    for elem2 in c2:\n",
    "        if elem1<elem2:\n",
    "            l.append(elem1)\n",
    "        else:\n",
    "            l.append(elem2)\n",
    "\n",
    "\n",
    "Step 4:\n",
    "Aggregate\n",
    "\n",
    "\n",
    "'''\n",
    "def mergeSort(arr):\n",
    "\tif len(arr) > 1:\n",
    "\t\tmid = len(arr)//2\n",
    "\t\tL = arr[:mid]\n",
    "\t\tR = arr[mid:]\n",
    "\t\tmergeSort(L)\n",
    "\t\tmergeSort(R)\n",
    "\t\ti = j = k = 0\n",
    "\t\twhile i < len(L) and j < len(R):\n",
    "\t\t\tif L[i] <= R[j]:\n",
    "\t\t\t\tarr[k] = L[i]\n",
    "\t\t\t\ti += 1\n",
    "\t\t\telse:\n",
    "\t\t\t\tarr[k] = R[j]\n",
    "\t\t\t\tj += 1\n",
    "\t\t\tk += 1\n",
    "\t\twhile i < len(L):\n",
    "\t\t\tarr[k] = L[i]\n",
    "\t\t\ti += 1\n",
    "\t\t\tk += 1\n",
    "\t\twhile j < len(R):\n",
    "\t\t\tarr[k] = R[j]\n",
    "\t\t\tj += 1\n",
    "\t\t\tk += 1\n",
    "\n",
    "\n",
    "#arr = [12, 11, 13, 5, 6, 7]\n",
    "#arr = [12, 11, 13]\n",
    "mergeSort(arr)\n",
    "print(arr)"
   ]
  },
  {
   "cell_type": "code",
   "execution_count": 9,
   "id": "73789636",
   "metadata": {},
   "outputs": [
    {
     "name": "stdout",
     "output_type": "stream",
     "text": [
      "4\n",
      "190\n"
     ]
    }
   ],
   "source": [
    "'''\n",
    "You are a renowned thief who has recently switched from stealing precious metals to stealing cakes because of the insane profit margins. You end up hitting the jackpot, breaking into the world’s largest privately owned stock of cakes—the vault of the Queen of England.\n",
    "\n",
    "While Queen Elizabeth has a limited number of types of cake, she has an unlimited supply of each type.\n",
    "\n",
    "Each type of cake has a weight and a value, stored in a tuple with two indices:\n",
    "\n",
    "An integer representing the weight of the cake in kilograms\n",
    "An integer representing the monetary value of the cake in British shillings\n",
    "For example:\n",
    "\n",
    "`# Weighs 7 kilograms and has a value of 160 shillings (7, 160)\n",
    "\n",
    "Weighs 3 kilograms and has a value of 90 shillings\n",
    "(3, 90)`\n",
    "\n",
    "You brought a duffel bag that can hold limited weight, and you want to make off with the most valuable haul possible.\n",
    "\n",
    "Write a function max_duffel_bag_value that takes a list of cake type tuples and a weight capacity , and returns the maximum monetary value the duffel bag can hold.\n",
    "\n",
    "For example:\n",
    "\n",
    "`cake_tuples = [(7, 160), (3, 90), (2, 15)] capacity = 20\n",
    "\n",
    "Returns 555 (6 of the middle type of cake and 1 of the last type of cake)\n",
    "max_duffel_bag_value(cake_tuples, capacity)`\n",
    "\n",
    "Weights and values may be any non-negative integer. Yes, it’s weird to think about cakes that weigh nothing or duffel bags that can’t hold anything. But we’re not just super mastermind criminals—we’re also meticulous about keeping our algorithms flexible and comprehensive.\n",
    "\n",
    "'''\n",
    "\n",
    "\n",
    "import numpy as np\n",
    "def max_duffel_bag_value(cake_tuples,capacity=None):\n",
    "    weight=[]\n",
    "    value=[]\n",
    "    price_per_kg=[]\n",
    "    for i in cake_tuples:\n",
    "        weight.append(i[0])\n",
    "        value.append(i[1])\n",
    "        price_per_kg.append(i[1]/i[0])\n",
    "    price_per_kg = np.array(price_per_kg)\n",
    "    max_effective = price_per_kg.argmax()\n",
    "    #print(price_per_kg)\n",
    "    max_effective_capacity = capacity // weight[max_effective]\n",
    "    #print(max_effective_capacity)\n",
    "    left_over_capacity = capacity % weight[max_effective]\n",
    "    print(left_over_capacity)\n",
    "    weight = np.array(weight)\n",
    "    left_over_weight = weight - left_over_capacity\n",
    "    left_over = left_over_weight.argmin()\n",
    "    print(max_effective_capacity * value[max_effective]+weight[left_over]*value[left_over])\n",
    "\n",
    "#max_duffel_bag_value([(7, 160), (3, 90), (2, 15)],capacity=20)\n",
    "\n",
    "max_duffel_bag_value([(3,40),(5,70)],capacity=9)"
   ]
  },
  {
   "cell_type": "code",
   "execution_count": 1,
   "id": "7ca6c889",
   "metadata": {},
   "outputs": [
    {
     "data": {
      "text/plain": [
       "4"
      ]
     },
     "execution_count": 1,
     "metadata": {},
     "output_type": "execute_result"
    }
   ],
   "source": [
    "'''\n",
    "#1. Use set\n",
    "#Start from left and keep appending the longest word untill you find a sequence longer than it\n",
    "\n",
    "'''\n",
    "import copy\n",
    "from IPython.core.debugger import set_trace\n",
    "\n",
    "\n",
    "\n",
    "def lengthOfLongestSubstring(s: str) -> int:\n",
    "#    %debug\n",
    "#    set_trace()\n",
    "    if len(s)==0:\n",
    "        return 0\n",
    "    longest=[]\n",
    "    substrings=[]\n",
    "    for curr_index,char in enumerate(s):\n",
    "        if char not in longest:\n",
    "#            #if prev_index+1==curr_index:\n",
    "#            #    prev_index=curr_index\n",
    "            longest.append(char)\n",
    "        elif char in longest:\n",
    "            f_longest=copy.deepcopy(longest)\n",
    "            substrings.append(f_longest)\n",
    "#If I used this code because it doesn't make a copy it removes it from everywhere longest is referenced. This \n",
    "#is a problem which can be avoided by using deepcopy\n",
    "#            prev_char=longest.pop()\n",
    "            prev_char=longest.remove(char)   \n",
    "#            prev_index=curr_index\n",
    "            longest=[]\n",
    "            if prev_char!=char:\n",
    "                longest.append(prev_char)\n",
    "                longest.append(char)\n",
    "            else:\n",
    "                longest.append(char)\n",
    "    substrings.append(longest)\n",
    "    substrings.sort(key=len,reverse=True)\n",
    "    #len((substrings[0]))\n",
    "    if len(substrings)==0:\n",
    "        return len(longest)\n",
    "    else:\n",
    "        return len(substrings[0])\n",
    "\n",
    "    \n",
    "lengthOfLongestSubstring('abcabc')"
   ]
  },
  {
   "cell_type": "markdown",
   "id": "54fb044a",
   "metadata": {},
   "source": [
    "#### Leetcode\n",
    "    longest-substring-without-repeating-characters\n"
   ]
  },
  {
   "cell_type": "code",
   "execution_count": 25,
   "id": "22c2c3d6",
   "metadata": {},
   "outputs": [
    {
     "data": {
      "text/plain": [
       "5"
      ]
     },
     "execution_count": 25,
     "metadata": {},
     "output_type": "execute_result"
    }
   ],
   "source": [
    "def lengthOfLongestSubstring(s: str):\n",
    "    l=0\n",
    "    charSet=set()\n",
    "    res=0\n",
    "    for r in range(len(s)):\n",
    "        while s[r] in charSet:\n",
    "            charSet.remove(s[l])\n",
    "            l+=1\n",
    "        charSet.add(s[r])\n",
    "        res=max(res,r-l+1)\n",
    "    return res\n",
    "            \n",
    "            \n",
    "    \n",
    "lengthOfLongestSubstring('anvddj')    "
   ]
  },
  {
   "cell_type": "markdown",
   "id": "fcaba85f",
   "metadata": {},
   "source": [
    "Given two strings needle and haystack, return the index of the first occurrence of needle in haystack, or -1 if needle is not part of haystack."
   ]
  },
  {
   "cell_type": "code",
   "execution_count": 7,
   "id": "453be11b",
   "metadata": {},
   "outputs": [
    {
     "data": {
      "text/plain": [
       "-1"
      ]
     },
     "execution_count": 7,
     "metadata": {},
     "output_type": "execute_result"
    }
   ],
   "source": [
    "def findneedleinhaystack(haystack,needle):\n",
    "    if needle in haystack:\n",
    "        return haystack.find(needle)\n",
    "    else:\n",
    "        return (-1)\n",
    "\n",
    "        \n",
    "findneedleinhaystack('codeleet','leeto') "
   ]
  },
  {
   "cell_type": "markdown",
   "id": "2b955611",
   "metadata": {},
   "source": [
    "There is a robot on an m x n grid. The robot is initially located at the top-left corner (i.e., grid[0][0]). The robot tries to move to the bottom-right corner (i.e., grid[m - 1][n - 1]). The robot can only move either down or right at any point in time.\n",
    "\n",
    "Given the two integers m and n, return the number of possible unique paths that the robot can take to reach the bottom-right corner.\n",
    "\n",
    "The test cases are generated so that the answer will be less than or equal to\n",
    "\n",
    "\n",
    "So our answer is just (m+n−2m−1)=(m+n−2)!(m−1)!(m+n−2−[m−1])!\\binom{m + n - 2}{m - 1} = \\frac{(m + n - 2)!}{(m - 1)!(m + n - 2 - [m - 1])!}( \n",
    "m−1\n",
    "m+n−2\n",
    "​\n",
    " )= \n",
    "(m−1)!(m+n−2−[m−1])!\n",
    "(m+n−2)!\n",
    "​\n"
   ]
  },
  {
   "cell_type": "code",
   "execution_count": 49,
   "id": "6f750adf",
   "metadata": {},
   "outputs": [
    {
     "name": "stdout",
     "output_type": "stream",
     "text": [
      "['d', 'r']\n"
     ]
    }
   ],
   "source": [
    "import random\n",
    "def uniquePaths(m,n):\n",
    "    routeMap=[]\n",
    "    #initialize\n",
    "    r,d=0,0\n",
    "    while r<n-1:\n",
    "        outcome=choice(['r','d'])\n",
    "        if outcome=='r':\n",
    "            r+=1\n",
    "            routeMap.append('r')\n",
    "        if outcome=='d':\n",
    "            routeMap.append('d')\n",
    "            d+=1\n",
    "    print(routeMap)\n",
    "\n",
    "    \n",
    "uniquePaths(3,2)"
   ]
  },
  {
   "cell_type": "code",
   "execution_count": 87,
   "id": "cfa2a84b",
   "metadata": {},
   "outputs": [
    {
     "data": {
      "text/plain": [
       "28"
      ]
     },
     "execution_count": 87,
     "metadata": {},
     "output_type": "execute_result"
    }
   ],
   "source": [
    "def uniquePaths(rows,col):\n",
    "    #col, rows = 7, 3\n",
    "    Matrix = [[0] *col  for y in range(rows)]\n",
    "    for i in range(col):\n",
    "        Matrix[0][i]=1\n",
    "    for i in range(rows):\n",
    "        Matrix[i][0]=1\n",
    "    for j in range(1,rows):\n",
    "        for i in range(1,col):\n",
    "            Matrix[j][i]=Matrix[j][i-1]+Matrix[j-1][i]\n",
    "\n",
    "    return Matrix[rows-1][col-1]\n",
    "        \n",
    "        \n"
   ]
  },
  {
   "cell_type": "markdown",
   "id": "30fe0cfb",
   "metadata": {},
   "source": [
    "Minimum Path Sum\n",
    "\n",
    "\n",
    "The solution uses memorization or caching\n",
    "The solution uses summing and minimization. "
   ]
  },
  {
   "cell_type": "code",
   "execution_count": 38,
   "id": "3e74b9f1",
   "metadata": {},
   "outputs": [
    {
     "data": {
      "text/plain": [
       "7"
      ]
     },
     "execution_count": 38,
     "metadata": {},
     "output_type": "execute_result"
    }
   ],
   "source": [
    "grid = [[1,3,1],[1,5,1],[4,2,1]]\n",
    "\n",
    "'''\n",
    "Approach #1\n",
    "Look at the adjacent cells and calculate the sum\n",
    "Calculate the size of the grid\n",
    "Using \n",
    "rows=len(grid)\n",
    "cols=len(grid[0])\n",
    "'''\n",
    "\n",
    "def minPathSum(grid):\n",
    "    rows=len(grid)\n",
    "    cols=len(grid[0])\n",
    "#    print('rows {} columns {} '.format(rows,cols) )\n",
    "    Matrix=[[float('inf')]*(cols+1) for y in range(rows+1)]\n",
    "    Matrix[rows][cols-1]=0\n",
    "#    print(Matrix)\n",
    "    for r in reversed(range(rows)):\n",
    "        for c in reversed(range(cols)):\n",
    "            Matrix[r][c]=grid[r][c]+min(Matrix[r][c+1],Matrix[r+1][c])\n",
    "    return (Matrix[0][0])\n",
    "#@    for i in Matrix:\n",
    "#        print(i)\n",
    "    \n",
    "minPathSum(grid)       \n",
    "    \n",
    "        "
   ]
  }
 ],
 "metadata": {
  "kernelspec": {
   "display_name": "Python 3 (ipykernel)",
   "language": "python",
   "name": "python3"
  },
  "language_info": {
   "codemirror_mode": {
    "name": "ipython",
    "version": 3
   },
   "file_extension": ".py",
   "mimetype": "text/x-python",
   "name": "python",
   "nbconvert_exporter": "python",
   "pygments_lexer": "ipython3",
   "version": "3.9.12"
  }
 },
 "nbformat": 4,
 "nbformat_minor": 5
}
